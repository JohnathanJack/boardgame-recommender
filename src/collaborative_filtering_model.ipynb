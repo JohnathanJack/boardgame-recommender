{
 "cells": [
  {
   "attachments": {},
   "cell_type": "markdown",
   "metadata": {},
   "source": [
    "# Basic Item-Based Collaborative Filtering Model Utilizing Surprise Module "
   ]
  },
  {
   "cell_type": "code",
   "execution_count": 8,
   "metadata": {},
   "outputs": [],
   "source": [
    "import pandas as pd\n",
    "import numpy as np\n",
    "from surprise import SVDpp,Dataset, Reader, accuracy\n",
    "from surprise.model_selection import train_test_split, GridSearchCV, cross_validate"
   ]
  },
  {
   "cell_type": "code",
   "execution_count": 3,
   "metadata": {},
   "outputs": [
    {
     "data": {
      "text/html": [
       "<div>\n",
       "<style scoped>\n",
       "    .dataframe tbody tr th:only-of-type {\n",
       "        vertical-align: middle;\n",
       "    }\n",
       "\n",
       "    .dataframe tbody tr th {\n",
       "        vertical-align: top;\n",
       "    }\n",
       "\n",
       "    .dataframe thead th {\n",
       "        text-align: right;\n",
       "    }\n",
       "</style>\n",
       "<table border=\"1\" class=\"dataframe\">\n",
       "  <thead>\n",
       "    <tr style=\"text-align: right;\">\n",
       "      <th></th>\n",
       "      <th>Username</th>\n",
       "      <th>BGGId</th>\n",
       "      <th>Rating</th>\n",
       "    </tr>\n",
       "  </thead>\n",
       "  <tbody>\n",
       "    <tr>\n",
       "      <th>0</th>\n",
       "      <td>Tonydorrf</td>\n",
       "      <td>213788</td>\n",
       "      <td>8.0</td>\n",
       "    </tr>\n",
       "    <tr>\n",
       "      <th>1</th>\n",
       "      <td>tachyon14k</td>\n",
       "      <td>213788</td>\n",
       "      <td>8.0</td>\n",
       "    </tr>\n",
       "    <tr>\n",
       "      <th>2</th>\n",
       "      <td>Ungotter</td>\n",
       "      <td>213788</td>\n",
       "      <td>8.0</td>\n",
       "    </tr>\n",
       "    <tr>\n",
       "      <th>3</th>\n",
       "      <td>brainlocki3</td>\n",
       "      <td>213788</td>\n",
       "      <td>8.0</td>\n",
       "    </tr>\n",
       "    <tr>\n",
       "      <th>4</th>\n",
       "      <td>PPMP</td>\n",
       "      <td>213788</td>\n",
       "      <td>8.0</td>\n",
       "    </tr>\n",
       "  </tbody>\n",
       "</table>\n",
       "</div>"
      ],
      "text/plain": [
       "      Username   BGGId  Rating\n",
       "0    Tonydorrf  213788     8.0\n",
       "1   tachyon14k  213788     8.0\n",
       "2     Ungotter  213788     8.0\n",
       "3  brainlocki3  213788     8.0\n",
       "4         PPMP  213788     8.0"
      ]
     },
     "execution_count": 3,
     "metadata": {},
     "output_type": "execute_result"
    }
   ],
   "source": [
    "df = pd.read_csv('C:/Users/John/Documents/LHL Lecture Material/boardgame-recommender/data/user_ratings.csv')\n",
    "df = df[['Username','BGGId','Rating']]\n",
    "df.head()"
   ]
  },
  {
   "cell_type": "code",
   "execution_count": 4,
   "metadata": {},
   "outputs": [],
   "source": [
    "# Determine rating scale for the dataset\n",
    "df['Rating'].describe()\n",
    "reader = Reader(rating_scale=(0,10))"
   ]
  },
  {
   "cell_type": "code",
   "execution_count": 5,
   "metadata": {},
   "outputs": [],
   "source": [
    "# Create surprise dataset and split into train and test\n",
    "data = Dataset.load_from_df(df, reader)\n",
    "train,test = train_test_split(data, test_size=0.2)"
   ]
  },
  {
   "cell_type": "code",
   "execution_count": 7,
   "metadata": {},
   "outputs": [
    {
     "name": "stdout",
     "output_type": "stream",
     "text": [
      "RMSE: 1.3558\n"
     ]
    },
    {
     "data": {
      "text/plain": [
       "1.355769315478485"
      ]
     },
     "execution_count": 7,
     "metadata": {},
     "output_type": "execute_result"
    }
   ],
   "source": [
    "# Fit training data to SVD and check for accuracy by RMSE\n",
    "svd = SVDpp()\n",
    "svd.fit(train)\n",
    "y_pred = svd.test(test)\n",
    "accuracy.rmse(y_pred, verbose=True)"
   ]
  },
  {
   "cell_type": "code",
   "execution_count": 11,
   "metadata": {},
   "outputs": [],
   "source": [
    "# unique boardgame ids\n",
    "boardgame_id = df['BGGId'].unique()\n",
    "# Choose a user, remove the boardgames they have rated\n",
    "user = 'bennygui'\n",
    "user_list = df.loc[df['Username']==user, 'BGGId']\n",
    "user_list = np.setdiff1d(boardgame_id, user_list)"
   ]
  },
  {
   "cell_type": "code",
   "execution_count": 12,
   "metadata": {},
   "outputs": [
    {
     "name": "stdout",
     "output_type": "stream",
     "text": [
      "Top boardgame id for bennygui, are [180241 193428 161936    490 284121], with predicted rating [9.65655991 9.62173329 9.58258823 9.51603668 9.49058143]\n"
     ]
    }
   ],
   "source": [
    "# create a sparse dataset using username, bggid, and rating(not needed so 4 is arbitrarily used)\n",
    "testset = [[user, bggid, 4.] for bggid in user_list]\n",
    "\n",
    "# Use the model and to create a list of predictions\n",
    "predictions = svd.test(testset)\n",
    "\n",
    "# For the user, choose the number of top games to be shown\n",
    "n_games = 5\n",
    "pred_ratings = np.array([pred.est for pred in predictions])\n",
    "top_ratings_idx = pred_ratings.argsort()[::-1][:n_games]\n",
    "bgg_ids = user_list[top_ratings_idx]\n",
    "print(f'Top boardgame id for {user}, are {bgg_ids}, with predicted rating {pred_ratings[top_ratings_idx]}')"
   ]
  },
  {
   "cell_type": "code",
   "execution_count": null,
   "metadata": {},
   "outputs": [],
   "source": []
  }
 ],
 "metadata": {
  "kernelspec": {
   "display_name": "py_test_env",
   "language": "python",
   "name": "python3"
  },
  "language_info": {
   "codemirror_mode": {
    "name": "ipython",
    "version": 3
   },
   "file_extension": ".py",
   "mimetype": "text/x-python",
   "name": "python",
   "nbconvert_exporter": "python",
   "pygments_lexer": "ipython3",
   "version": "3.9.15"
  },
  "orig_nbformat": 4
 },
 "nbformat": 4,
 "nbformat_minor": 2
}
