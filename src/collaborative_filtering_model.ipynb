{
 "cells": [
  {
   "attachments": {},
   "cell_type": "markdown",
   "metadata": {},
   "source": [
    "# Basic Item-Based Collaborative Filtering Model Utilizing Surprise Module "
   ]
  },
  {
   "cell_type": "code",
   "execution_count": 1,
   "metadata": {},
   "outputs": [],
   "source": [
    "import pandas as pd\n",
    "import numpy as np\n",
    "from surprise import SVDpp,Dataset, Reader, accuracy\n",
    "from surprise.model_selection import train_test_split, GridSearchCV, cross_validate\n",
    "import pickle"
   ]
  },
  {
   "cell_type": "code",
   "execution_count": 2,
   "metadata": {},
   "outputs": [
    {
     "data": {
      "text/html": [
       "<div>\n",
       "<style scoped>\n",
       "    .dataframe tbody tr th:only-of-type {\n",
       "        vertical-align: middle;\n",
       "    }\n",
       "\n",
       "    .dataframe tbody tr th {\n",
       "        vertical-align: top;\n",
       "    }\n",
       "\n",
       "    .dataframe thead th {\n",
       "        text-align: right;\n",
       "    }\n",
       "</style>\n",
       "<table border=\"1\" class=\"dataframe\">\n",
       "  <thead>\n",
       "    <tr style=\"text-align: right;\">\n",
       "      <th></th>\n",
       "      <th>Username</th>\n",
       "      <th>BGGId</th>\n",
       "      <th>Rating</th>\n",
       "    </tr>\n",
       "  </thead>\n",
       "  <tbody>\n",
       "    <tr>\n",
       "      <th>0</th>\n",
       "      <td>Tonydorrf</td>\n",
       "      <td>213788</td>\n",
       "      <td>8.0</td>\n",
       "    </tr>\n",
       "    <tr>\n",
       "      <th>1</th>\n",
       "      <td>tachyon14k</td>\n",
       "      <td>213788</td>\n",
       "      <td>8.0</td>\n",
       "    </tr>\n",
       "    <tr>\n",
       "      <th>2</th>\n",
       "      <td>Ungotter</td>\n",
       "      <td>213788</td>\n",
       "      <td>8.0</td>\n",
       "    </tr>\n",
       "    <tr>\n",
       "      <th>3</th>\n",
       "      <td>brainlocki3</td>\n",
       "      <td>213788</td>\n",
       "      <td>8.0</td>\n",
       "    </tr>\n",
       "    <tr>\n",
       "      <th>4</th>\n",
       "      <td>PPMP</td>\n",
       "      <td>213788</td>\n",
       "      <td>8.0</td>\n",
       "    </tr>\n",
       "  </tbody>\n",
       "</table>\n",
       "</div>"
      ],
      "text/plain": [
       "      Username   BGGId  Rating\n",
       "0    Tonydorrf  213788     8.0\n",
       "1   tachyon14k  213788     8.0\n",
       "2     Ungotter  213788     8.0\n",
       "3  brainlocki3  213788     8.0\n",
       "4         PPMP  213788     8.0"
      ]
     },
     "execution_count": 2,
     "metadata": {},
     "output_type": "execute_result"
    }
   ],
   "source": [
    "df = pd.read_csv('C:/Users/John/Documents/LHL Lecture Material/boardgame-recommender/data/user_ratings.csv')\n",
    "df = df[['Username','BGGId','Rating']]\n",
    "df.head()"
   ]
  },
  {
   "cell_type": "code",
   "execution_count": 3,
   "metadata": {},
   "outputs": [
    {
     "data": {
      "text/html": [
       "<div>\n",
       "<style scoped>\n",
       "    .dataframe tbody tr th:only-of-type {\n",
       "        vertical-align: middle;\n",
       "    }\n",
       "\n",
       "    .dataframe tbody tr th {\n",
       "        vertical-align: top;\n",
       "    }\n",
       "\n",
       "    .dataframe thead th {\n",
       "        text-align: right;\n",
       "    }\n",
       "</style>\n",
       "<table border=\"1\" class=\"dataframe\">\n",
       "  <thead>\n",
       "    <tr style=\"text-align: right;\">\n",
       "      <th></th>\n",
       "      <th>BGGId</th>\n",
       "      <th>Name</th>\n",
       "      <th>Description</th>\n",
       "      <th>YearPublished</th>\n",
       "      <th>GameWeight</th>\n",
       "      <th>AvgRating</th>\n",
       "      <th>BayesAvgRating</th>\n",
       "      <th>StdDev</th>\n",
       "      <th>MinPlayers</th>\n",
       "      <th>MaxPlayers</th>\n",
       "      <th>...</th>\n",
       "      <th>Rank:partygames</th>\n",
       "      <th>Rank:childrensgames</th>\n",
       "      <th>Cat:Thematic</th>\n",
       "      <th>Cat:Strategy</th>\n",
       "      <th>Cat:War</th>\n",
       "      <th>Cat:Family</th>\n",
       "      <th>Cat:CGS</th>\n",
       "      <th>Cat:Abstract</th>\n",
       "      <th>Cat:Party</th>\n",
       "      <th>Cat:Childrens</th>\n",
       "    </tr>\n",
       "  </thead>\n",
       "  <tbody>\n",
       "    <tr>\n",
       "      <th>0</th>\n",
       "      <td>1</td>\n",
       "      <td>Die Macher</td>\n",
       "      <td>die macher game seven sequential political rac...</td>\n",
       "      <td>1986</td>\n",
       "      <td>4.3206</td>\n",
       "      <td>7.61428</td>\n",
       "      <td>7.10363</td>\n",
       "      <td>1.57979</td>\n",
       "      <td>3</td>\n",
       "      <td>5</td>\n",
       "      <td>...</td>\n",
       "      <td>21926</td>\n",
       "      <td>21926</td>\n",
       "      <td>0</td>\n",
       "      <td>1</td>\n",
       "      <td>0</td>\n",
       "      <td>0</td>\n",
       "      <td>0</td>\n",
       "      <td>0</td>\n",
       "      <td>0</td>\n",
       "      <td>0</td>\n",
       "    </tr>\n",
       "    <tr>\n",
       "      <th>1</th>\n",
       "      <td>2</td>\n",
       "      <td>Dragonmaster</td>\n",
       "      <td>dragonmaster tricktaking card game base old ga...</td>\n",
       "      <td>1981</td>\n",
       "      <td>1.9630</td>\n",
       "      <td>6.64537</td>\n",
       "      <td>5.78447</td>\n",
       "      <td>1.45440</td>\n",
       "      <td>3</td>\n",
       "      <td>4</td>\n",
       "      <td>...</td>\n",
       "      <td>21926</td>\n",
       "      <td>21926</td>\n",
       "      <td>0</td>\n",
       "      <td>1</td>\n",
       "      <td>0</td>\n",
       "      <td>0</td>\n",
       "      <td>0</td>\n",
       "      <td>0</td>\n",
       "      <td>0</td>\n",
       "      <td>0</td>\n",
       "    </tr>\n",
       "    <tr>\n",
       "      <th>2</th>\n",
       "      <td>3</td>\n",
       "      <td>Samurai</td>\n",
       "      <td>samurai set medieval japan player compete gain...</td>\n",
       "      <td>1998</td>\n",
       "      <td>2.4859</td>\n",
       "      <td>7.45601</td>\n",
       "      <td>7.23994</td>\n",
       "      <td>1.18227</td>\n",
       "      <td>2</td>\n",
       "      <td>4</td>\n",
       "      <td>...</td>\n",
       "      <td>21926</td>\n",
       "      <td>21926</td>\n",
       "      <td>0</td>\n",
       "      <td>1</td>\n",
       "      <td>0</td>\n",
       "      <td>0</td>\n",
       "      <td>0</td>\n",
       "      <td>0</td>\n",
       "      <td>0</td>\n",
       "      <td>0</td>\n",
       "    </tr>\n",
       "    <tr>\n",
       "      <th>3</th>\n",
       "      <td>4</td>\n",
       "      <td>Tal der Könige</td>\n",
       "      <td>triangular box luxurious large block tal der k...</td>\n",
       "      <td>1992</td>\n",
       "      <td>2.6667</td>\n",
       "      <td>6.60006</td>\n",
       "      <td>5.67954</td>\n",
       "      <td>1.23129</td>\n",
       "      <td>2</td>\n",
       "      <td>4</td>\n",
       "      <td>...</td>\n",
       "      <td>21926</td>\n",
       "      <td>21926</td>\n",
       "      <td>0</td>\n",
       "      <td>0</td>\n",
       "      <td>0</td>\n",
       "      <td>0</td>\n",
       "      <td>0</td>\n",
       "      <td>0</td>\n",
       "      <td>0</td>\n",
       "      <td>0</td>\n",
       "    </tr>\n",
       "    <tr>\n",
       "      <th>4</th>\n",
       "      <td>5</td>\n",
       "      <td>Acquire</td>\n",
       "      <td>acquire player strategically invest business t...</td>\n",
       "      <td>1964</td>\n",
       "      <td>2.5031</td>\n",
       "      <td>7.33861</td>\n",
       "      <td>7.14189</td>\n",
       "      <td>1.33583</td>\n",
       "      <td>2</td>\n",
       "      <td>6</td>\n",
       "      <td>...</td>\n",
       "      <td>21926</td>\n",
       "      <td>21926</td>\n",
       "      <td>0</td>\n",
       "      <td>1</td>\n",
       "      <td>0</td>\n",
       "      <td>0</td>\n",
       "      <td>0</td>\n",
       "      <td>0</td>\n",
       "      <td>0</td>\n",
       "      <td>0</td>\n",
       "    </tr>\n",
       "  </tbody>\n",
       "</table>\n",
       "<p>5 rows × 48 columns</p>\n",
       "</div>"
      ],
      "text/plain": [
       "   BGGId            Name                                        Description  \\\n",
       "0      1      Die Macher  die macher game seven sequential political rac...   \n",
       "1      2    Dragonmaster  dragonmaster tricktaking card game base old ga...   \n",
       "2      3         Samurai  samurai set medieval japan player compete gain...   \n",
       "3      4  Tal der Könige  triangular box luxurious large block tal der k...   \n",
       "4      5         Acquire  acquire player strategically invest business t...   \n",
       "\n",
       "   YearPublished  GameWeight  AvgRating  BayesAvgRating   StdDev  MinPlayers  \\\n",
       "0           1986      4.3206    7.61428         7.10363  1.57979           3   \n",
       "1           1981      1.9630    6.64537         5.78447  1.45440           3   \n",
       "2           1998      2.4859    7.45601         7.23994  1.18227           2   \n",
       "3           1992      2.6667    6.60006         5.67954  1.23129           2   \n",
       "4           1964      2.5031    7.33861         7.14189  1.33583           2   \n",
       "\n",
       "   MaxPlayers  ...  Rank:partygames  Rank:childrensgames  Cat:Thematic  \\\n",
       "0           5  ...            21926                21926             0   \n",
       "1           4  ...            21926                21926             0   \n",
       "2           4  ...            21926                21926             0   \n",
       "3           4  ...            21926                21926             0   \n",
       "4           6  ...            21926                21926             0   \n",
       "\n",
       "  Cat:Strategy  Cat:War  Cat:Family  Cat:CGS  Cat:Abstract  Cat:Party  \\\n",
       "0            1        0           0        0             0          0   \n",
       "1            1        0           0        0             0          0   \n",
       "2            1        0           0        0             0          0   \n",
       "3            0        0           0        0             0          0   \n",
       "4            1        0           0        0             0          0   \n",
       "\n",
       "   Cat:Childrens  \n",
       "0              0  \n",
       "1              0  \n",
       "2              0  \n",
       "3              0  \n",
       "4              0  \n",
       "\n",
       "[5 rows x 48 columns]"
      ]
     },
     "execution_count": 3,
     "metadata": {},
     "output_type": "execute_result"
    }
   ],
   "source": [
    "game_df = pd.read_csv('C:/Users/John/Documents/LHL Lecture Material/boardgame-recommender/data/games.csv')\n",
    "game_df.head()"
   ]
  },
  {
   "cell_type": "code",
   "execution_count": 22,
   "metadata": {},
   "outputs": [],
   "source": [
    "# Determine rating scale for the dataset\n",
    "df['Rating'].describe()\n",
    "reader = Reader(rating_scale=(0,10))"
   ]
  },
  {
   "cell_type": "code",
   "execution_count": 23,
   "metadata": {},
   "outputs": [],
   "source": [
    "# Create surprise dataset and split into train and test\n",
    "data = Dataset.load_from_df(df, reader)\n",
    "train,test = train_test_split(data, test_size=0.2)"
   ]
  },
  {
   "cell_type": "code",
   "execution_count": 24,
   "metadata": {},
   "outputs": [
    {
     "name": "stdout",
     "output_type": "stream",
     "text": [
      "RMSE: 1.3554\n"
     ]
    },
    {
     "data": {
      "text/plain": [
       "1.355360573287475"
      ]
     },
     "execution_count": 24,
     "metadata": {},
     "output_type": "execute_result"
    }
   ],
   "source": [
    "# Fit training data to SVD and check for accuracy by RMSE\n",
    "svd = SVDpp()\n",
    "svd.fit(train)\n",
    "y_pred = svd.test(test)\n",
    "accuracy.rmse(y_pred, verbose=True)"
   ]
  },
  {
   "cell_type": "code",
   "execution_count": 36,
   "metadata": {},
   "outputs": [],
   "source": [
    "pickle.dump(svd, open('C:/Users/John/Documents/LHL Lecture Material/boardgame-recommender/src/models/cf_model.pkl','wb'))"
   ]
  },
  {
   "cell_type": "code",
   "execution_count": 4,
   "metadata": {},
   "outputs": [],
   "source": [
    "with open('C:/Users/John/Documents/LHL Lecture Material/boardgame-recommender/src/models/cf_model.pkl','rb') as f:\n",
    "    model = pickle.load(f)"
   ]
  },
  {
   "cell_type": "code",
   "execution_count": 7,
   "metadata": {},
   "outputs": [],
   "source": [
    "def user_recommendations(user, n_games):\n",
    "    \"\"\"\n",
    "        Takes in a user and n_games to returns their top n_games recommendations that they have not rated yet.\n",
    "\n",
    "        Parameters:\n",
    "            user(str): name of user\n",
    "            n_games(int): number of games to show\n",
    "        \n",
    "        Returns:\n",
    "            A dataframe with each game as an index with a column for their estimated rating\n",
    "    \"\"\"\n",
    "    # Remove the boardgames that the user have rated\n",
    "    boardgame_id = df['BGGId'].unique()\n",
    "    user_list = df.loc[df['Username']==user, 'BGGId']\n",
    "    user_list = np.setdiff1d(boardgame_id, user_list)\n",
    "\n",
    "    # Create sparse dataset with username, bggid and rating(arbitrarily used 4. Rating number required for the dataset structure)\n",
    "    testset =[[user, bggid, 4.] for bggid in user_list]\n",
    "\n",
    "    # Test model on the testset and determine the boardgames with the highest rating\n",
    "    predictions = model.test(testset)\n",
    "    pred_ratings = np.array([pred.est for pred in predictions])\n",
    "    top_ratings_idx = pred_ratings.argsort()[::-1][:n_games]\n",
    "    bgg_ids = user_list[top_ratings_idx]\n",
    "    bgg_name = [game_df.loc[game_df['BGGId'] ==id]['Name'].values[0] for id in bgg_ids]\n",
    "    print(f'Top boardgames for {user} in order are: \\n {bgg_name}')\n",
    "    "
   ]
  },
  {
   "cell_type": "code",
   "execution_count": 8,
   "metadata": {},
   "outputs": [
    {
     "name": "stdout",
     "output_type": "stream",
     "text": [
      "Top boardgames for bennygui in order are: \n",
      " ['Viticulture Essential Edition', 'Clank!: Legacy – Acquisitions Incorporated', 'Ark Nova', 'Uprising: Curse of the Last Emperor', 'Mechs vs. Minions']\n"
     ]
    }
   ],
   "source": [
    "user_recommendations('bennygui',5)"
   ]
  },
  {
   "cell_type": "code",
   "execution_count": null,
   "metadata": {},
   "outputs": [],
   "source": []
  }
 ],
 "metadata": {
  "kernelspec": {
   "display_name": "py_test_env",
   "language": "python",
   "name": "python3"
  },
  "language_info": {
   "codemirror_mode": {
    "name": "ipython",
    "version": 3
   },
   "file_extension": ".py",
   "mimetype": "text/x-python",
   "name": "python",
   "nbconvert_exporter": "python",
   "pygments_lexer": "ipython3",
   "version": "3.9.15"
  },
  "orig_nbformat": 4
 },
 "nbformat": 4,
 "nbformat_minor": 2
}
