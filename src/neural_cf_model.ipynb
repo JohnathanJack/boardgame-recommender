{
 "cells": [
  {
   "cell_type": "code",
   "execution_count": 7,
   "metadata": {},
   "outputs": [],
   "source": [
    "import numpy as np\n",
    "import pandas as pd\n",
    "from sklearn.preprocessing import MinMaxScaler\n",
    "from sklearn.model_selection import train_test_split\n",
    "from sklearn.metrics import mean_squared_error\n",
    "from sklearn.feature_extraction.text import TfidfVectorizer\n",
    "\n",
    "import tensorflow as tf\n",
    "from tensorflow import keras\n",
    "from keras.layers import Input, Embedding, Flatten, Dot, Dense, Concatenate\n",
    "from keras.models import Model\n",
    "\n",
    "import matplotlib.pyplot as plt"
   ]
  },
  {
   "cell_type": "code",
   "execution_count": 3,
   "metadata": {},
   "outputs": [],
   "source": [
    "df = pd.read_csv('C:/Users/John/Documents/LHL Lecture Material/boardgame-recommender/data/user_ratings.csv')\n",
    "df = df[['Username','BGGId','Rating']]\n",
    "game_df = pd.read_csv('C:/Users/John/Documents/LHL Lecture Material/boardgame-recommender/data/games.csv')"
   ]
  },
  {
   "cell_type": "code",
   "execution_count": 4,
   "metadata": {},
   "outputs": [],
   "source": [
    "df['Username'] = df['Username'].astype(str)\n",
    "df['BGGId'] = df['BGGId'].astype(int)\n",
    "df['Rating'] = df['Rating'].astype('float32')"
   ]
  },
  {
   "cell_type": "code",
   "execution_count": 31,
   "metadata": {},
   "outputs": [],
   "source": [
    "user_ids = df['Username'].unique().tolist()\n",
    "game_ids = df['BGGId'].unique().tolist()\n",
    "user2user_encoded = {x: i for i, x in enumerate(user_ids)}\n",
    "game2game_encoded = {x: i for i,x in enumerate(game_ids)}\n",
    "num_users = len(user2user_encoded)\n",
    "num_games = len(game2game_encoded)"
   ]
  },
  {
   "cell_type": "code",
   "execution_count": 32,
   "metadata": {},
   "outputs": [],
   "source": [
    "df['user'] = df['Username'].map(user2user_encoded)\n",
    "df['game'] = df['BGGId'].map(game2game_encoded)\n",
    "df['Rating'] = df['Rating'].values.astype(np.float32)"
   ]
  },
  {
   "cell_type": "code",
   "execution_count": 35,
   "metadata": {},
   "outputs": [],
   "source": [
    "X = df[['user','game']].values\n",
    "y = df[['Rating']]\n",
    "scaler = MinMaxScaler()\n",
    "x_train, x_test, y_train, y_test = train_test_split(X,y,test_size=0.2, random_state=0)\n",
    "y_train, y_test = scaler.fit_transform(y_train), scaler.transform(y_test)"
   ]
  },
  {
   "cell_type": "code",
   "execution_count": 33,
   "metadata": {},
   "outputs": [],
   "source": [
    "embed_size = 50\n",
    "\n",
    "#input layer\n",
    "user_in = Input(name='user_in', shape=(1,))\n",
    "prod_in = Input(name='prod_in', shape=(1,))\n",
    "\n",
    "\n",
    "#matrix factorization\n",
    "mf_user_emb = Embedding(name='mf_user_emb', input_dim=num_users, output_dim = embed_size)(user_in)\n",
    "mf_user_flat = Flatten(name='mf_user_flat')(mf_user_emb)\n",
    "mf_prod_emb = Embedding(name='mf_prod_emb', input_dim=num_games, output_dim=embed_size)(prod_in)\n",
    "mf_prod_flat = Flatten(name='mf_prod_flat')(mf_prod_emb)\n",
    "mf_dot = Dot(name='mf_dot', normalize=True, axes=1)([mf_user_flat, mf_prod_flat])\n",
    "\n",
    "#neural network\n",
    "nn_user_emb = Embedding(name='nn_user_emb', input_dim = num_users, output_dim = embed_size)(user_in)\n",
    "nn_user_flat = Flatten(name='nn_user_flat')(nn_user_emb)\n",
    "nn_prod_emb = Embedding(name='nn_prod_emb', input_dim=num_games, output_dim= embed_size)(prod_in)\n",
    "nn_prod_flat = Flatten(name='nn_prod_flat')(nn_prod_emb)\n",
    "nn_concat = Concatenate()([nn_user_flat, nn_prod_flat])\n",
    "nn_dense = Dense(name='nn_dense', units=int(embed_size/2), activation='relu')(nn_concat)\n",
    "\n",
    "#Merge both together\n",
    "combo = Concatenate()([mf_dot, nn_dense])\n",
    "y_out = Dense(name='y_out', units=1, activation='linear')(combo)\n",
    "\n",
    "model = Model(inputs=[user_in, prod_in], outputs = y_out, name='neural_cf')\n",
    "model.compile(optimizer='adam', loss='mean_squared_error', metrics=['mean_squared_error'])\n"
   ]
  },
  {
   "cell_type": "code",
   "execution_count": 36,
   "metadata": {},
   "outputs": [
    {
     "name": "stdout",
     "output_type": "stream",
     "text": [
      "Epoch 1/3\n",
      "3031/3031 [==============================] - 1234s 407ms/step - loss: 0.0192 - mean_squared_error: 0.0192\n",
      "Epoch 2/3\n",
      "3031/3031 [==============================] - 1217s 401ms/step - loss: 0.0135 - mean_squared_error: 0.0135\n",
      "Epoch 3/3\n",
      "3031/3031 [==============================] - 1234s 407ms/step - loss: 0.0112 - mean_squared_error: 0.0112\n"
     ]
    }
   ],
   "source": [
    "history = model.fit(x=[x_train[:,0], x_train[:,1]], y=y_train, epochs=3, batch_size = 5000, verbose=True)"
   ]
  },
  {
   "cell_type": "code",
   "execution_count": 37,
   "metadata": {},
   "outputs": [
    {
     "data": {
      "text/plain": [
       "Text(0.5, 0, 'epoch')"
      ]
     },
     "execution_count": 37,
     "metadata": {},
     "output_type": "execute_result"
    },
    {
     "data": {
      "image/png": "[encoded data removed]",
      "text/plain": [
       "<Figure size 432x288 with 1 Axes>"
      ]
     },
     "metadata": {
      "needs_background": "light"
     },
     "output_type": "display_data"
    }
   ],
   "source": [
    "plt.plot(history.history['loss'])\n",
    "plt.ylabel('loss')\n",
    "plt.xlabel('epoch')"
   ]
  },
  {
   "cell_type": "code",
   "execution_count": 38,
   "metadata": {},
   "outputs": [
    {
     "name": "stdout",
     "output_type": "stream",
     "text": [
      "118389/118389 [==============================] - 89s 750us/step\n"
     ]
    },
    {
     "data": {
      "text/plain": [
       "0.116958246"
      ]
     },
     "execution_count": 38,
     "metadata": {},
     "output_type": "execute_result"
    }
   ],
   "source": [
    "y_pred = model.predict(x=[x_test[:,0], x_test[:,1]])\n",
    "mean_squared_error(y_test, y_pred, squared=False)"
   ]
  },
  {
   "cell_type": "code",
   "execution_count": 39,
   "metadata": {},
   "outputs": [
    {
     "name": "stderr",
     "output_type": "stream",
     "text": [
      "WARNING:absl:Found untraced functions such as _update_step_xla while saving (showing 1 of 1). These functions will not be directly callable after loading.\n"
     ]
    },
    {
     "name": "stdout",
     "output_type": "stream",
     "text": [
      "INFO:tensorflow:Assets written to: C:/Users/John/Documents/LHL Lecture Material/boardgame-recommender/src/models/nn_model_2\\assets\n"
     ]
    },
    {
     "name": "stderr",
     "output_type": "stream",
     "text": [
      "INFO:tensorflow:Assets written to: C:/Users/John/Documents/LHL Lecture Material/boardgame-recommender/src/models/nn_model_2\\assets\n"
     ]
    }
   ],
   "source": [
    "model.save('C:/Users/John/Documents/LHL Lecture Material/boardgame-recommender/src/models/nn_model_2')"
   ]
  },
  {
   "cell_type": "code",
   "execution_count": 40,
   "metadata": {},
   "outputs": [],
   "source": [
    "def user_recommendations(user, n_games,model):\n",
    "    \"\"\"\n",
    "        Takes in a user, n_games and a model to returns their top n_games recommendations that they have not rated yet.\n",
    "\n",
    "        Parameters:\n",
    "            user(str): name of user\n",
    "            n_games(int): number of games to show\n",
    "            model: the model to use for predictions\n",
    "            \n",
    "        Returns:\n",
    "            A list with each game as an index with a column for their estimated rating\n",
    "    \"\"\"\n",
    "    # Remove the boardgames that the user have rated\n",
    "    boardgame_id = df['BGGId'].unique()\n",
    "    user_list = df.loc[df['Username']==user, 'BGGId']\n",
    "    user_list = np.setdiff1d(boardgame_id, user_list)\n",
    "\n",
    "    # Create sparse dataset with username and bggid\n",
    "    testset = np.array([[user2user_encoded[user], game2game_encoded[bggid]] for bggid in user_list])\n",
    "    # Test model on the testset and determine the boardgames with the highest rating\n",
    "    predictions = model.predict(x=[testset[:,0],testset[:,1]])\n",
    "    # Reshaped the predictions array by Transposing it. \n",
    "    top_ratings_idx = predictions.T[0].argsort()[::-1][:n_games]\n",
    "    bgg_ids = user_list[top_ratings_idx]\n",
    "    bgg_name = [game_df.loc[game_df['BGGId'] ==id]['Name'].values[0] for id in bgg_ids]\n",
    "    print(f'Top boardgames for {user} in order are: \\n {bgg_name}')"
   ]
  },
  {
   "cell_type": "code",
   "execution_count": 41,
   "metadata": {},
   "outputs": [
    {
     "name": "stdout",
     "output_type": "stream",
     "text": [
      "673/673 [==============================] - 1s 726us/step\n",
      "Top boardgames for bennygui in order are: \n",
      " ['Final Girl', 'Ark Nova', 'Great Western Trail (Second Edition)', 'High Noon', 'Chronicles of Crime: 2400']\n"
     ]
    }
   ],
   "source": [
    "user_recommendations('bennygui',5, model)"
   ]
  },
  {
   "cell_type": "code",
   "execution_count": 47,
   "metadata": {},
   "outputs": [],
   "source": [
    "games = df[df['Username'] == 'bennygui'].sort_values('Rating',ascending=False)['BGGId'].values[:5]"
   ]
  },
  {
   "cell_type": "code",
   "execution_count": 48,
   "metadata": {},
   "outputs": [
    {
     "name": "stdout",
     "output_type": "stream",
     "text": [
      "Five Tribes\n",
      "Jaipur\n",
      "Isle of Skye: From Chieftain to King\n",
      "7 Wonders\n",
      "Marco Polo II: In the Service of the Khan\n"
     ]
    }
   ],
   "source": [
    "for game in games:\n",
    "    print(game_df[game_df['BGGId']==game]['Name'].values[0])"
   ]
  },
  {
   "cell_type": "code",
   "execution_count": null,
   "metadata": {},
   "outputs": [],
   "source": []
  },
  {
   "cell_type": "code",
   "execution_count": null,
   "metadata": {},
   "outputs": [],
   "source": []
  }
 ],
 "metadata": {
  "kernelspec": {
   "display_name": "py_test_env",
   "language": "python",
   "name": "python3"
  },
  "language_info": {
   "codemirror_mode": {
    "name": "ipython",
    "version": 3
   },
   "file_extension": ".py",
   "mimetype": "text/x-python",
   "name": "python",
   "nbconvert_exporter": "python",
   "pygments_lexer": "ipython3",
   "version": "3.9.15"
  },
  "orig_nbformat": 4
 },
 "nbformat": 4,
 "nbformat_minor": 2
}
