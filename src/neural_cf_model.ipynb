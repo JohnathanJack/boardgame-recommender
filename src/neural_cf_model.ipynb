{
  "cells": [
    {
      "cell_type": "code",
      "execution_count": 19,
      "metadata": {
        "id": "7eTGqYMFZaut"
      },
      "outputs": [],
      "source": [
        "import numpy as np\n",
        "import pandas as pd\n",
        "from sklearn.preprocessing import MinMaxScaler\n",
        "from sklearn.model_selection import train_test_split\n",
        "from sklearn.metrics import mean_squared_error\n",
        "from sklearn.feature_extraction.text import TfidfVectorizer\n",
        "\n",
        "import tensorflow as tf\n",
        "from tensorflow import keras\n",
        "from keras.layers import Input, Embedding, Flatten, Dot, Dense, Concatenate\n",
        "from keras.models import Model\n",
        "\n",
        "import matplotlib.pyplot as plt"
      ]
    },
    {
      "cell_type": "code",
      "source": [
        "from google.colab import drive\n",
        "drive.mount('/content/drive')"
      ],
      "metadata": {
        "colab": {
          "base_uri": "https://localhost:8080/"
        },
        "id": "VkSUS9n4ZnM4",
        "outputId": "582a5bb0-0580-4b7a-c276-2ba834647695"
      },
      "execution_count": 20,
      "outputs": [
        {
          "output_type": "stream",
          "name": "stdout",
          "text": [
            "Drive already mounted at /content/drive; to attempt to forcibly remount, call drive.mount(\"/content/drive\", force_remount=True).\n"
          ]
        }
      ]
    },
    {
      "cell_type": "code",
      "execution_count": 21,
      "metadata": {
        "id": "u7FEkooRZauu"
      },
      "outputs": [],
      "source": [
        "df = pd.read_csv('/content/drive/MyDrive/Colab Notebooks/user_ratings.csv')\n",
        "df = df[['Username','BGGId','Rating']]\n",
        "game_df = pd.read_csv('/content/drive/MyDrive/Colab Notebooks/games.csv')"
      ]
    },
    {
      "cell_type": "code",
      "execution_count": 22,
      "metadata": {
        "id": "g6O1hIZYZauu"
      },
      "outputs": [],
      "source": [
        "df['Username'] = df['Username'].astype(str)\n",
        "df['BGGId'] = df['BGGId'].astype(int)\n",
        "df['Rating'] = df['Rating'].astype('float32')"
      ]
    },
    {
      "cell_type": "code",
      "execution_count": 23,
      "metadata": {
        "id": "dL3yAaslZauu"
      },
      "outputs": [],
      "source": [
        "user_ids = df['Username'].unique().tolist()\n",
        "game_ids = df['BGGId'].unique().tolist()\n",
        "user2user_encoded = {x: i for i, x in enumerate(user_ids)}\n",
        "game2game_encoded = {x: i for i,x in enumerate(game_ids)}\n",
        "num_users = len(user2user_encoded)\n",
        "num_games = len(game2game_encoded)"
      ]
    },
    {
      "cell_type": "code",
      "execution_count": 24,
      "metadata": {
        "id": "1aZz2VgeZauv"
      },
      "outputs": [],
      "source": [
        "df['user'] = df['Username'].map(user2user_encoded)\n",
        "df['game'] = df['BGGId'].map(game2game_encoded)\n",
        "df['Rating'] = df['Rating'].values.astype(np.float32)"
      ]
    },
    {
      "cell_type": "code",
      "execution_count": 25,
      "metadata": {
        "id": "xvr-qgHDZauv"
      },
      "outputs": [],
      "source": [
        "X = df[['user','game']].values\n",
        "y = df[['Rating']]\n",
        "scaler = MinMaxScaler()\n",
        "x_train, x_test, y_train, y_test = train_test_split(X,y,test_size=0.2, random_state=0)\n",
        "y_train, y_test = scaler.fit_transform(y_train), scaler.transform(y_test)"
      ]
    },
    {
      "cell_type": "code",
      "execution_count": 26,
      "metadata": {
        "id": "WAlOF6xOZauv"
      },
      "outputs": [],
      "source": [
        "embed_size = 50\n",
        "\n",
        "#input layer\n",
        "user_in = Input(name='user_in', shape=(1,))\n",
        "prod_in = Input(name='prod_in', shape=(1,))\n",
        "\n",
        "\n",
        "#matrix factorization\n",
        "mf_user_emb = Embedding(name='mf_user_emb', input_dim=num_users, output_dim = embed_size)(user_in)\n",
        "mf_user_flat = Flatten(name='mf_user_flat')(mf_user_emb)\n",
        "mf_prod_emb = Embedding(name='mf_prod_emb', input_dim=num_games, output_dim=embed_size)(prod_in)\n",
        "mf_prod_flat = Flatten(name='mf_prod_flat')(mf_prod_emb)\n",
        "mf_dot = Dot(name='mf_dot', normalize=True, axes=1)([mf_user_flat, mf_prod_flat])\n",
        "\n",
        "#neural network\n",
        "nn_user_emb = Embedding(name='nn_user_emb', input_dim = num_users, output_dim = embed_size)(user_in)\n",
        "nn_user_flat = Flatten(name='nn_user_flat')(nn_user_emb)\n",
        "nn_prod_emb = Embedding(name='nn_prod_emb', input_dim=num_games, output_dim= embed_size)(prod_in)\n",
        "nn_prod_flat = Flatten(name='nn_prod_flat')(nn_prod_emb)\n",
        "nn_concat = Concatenate()([nn_user_flat, nn_prod_flat])\n",
        "nn_dense = Dense(name='nn_dense', units=int(embed_size/2), activation='relu')(nn_concat)\n",
        "\n",
        "#Merge both together\n",
        "combo = Concatenate()([mf_dot, nn_dense])\n",
        "y_out = Dense(name='y_out', units=1, activation='linear')(combo)\n",
        "\n",
        "model = Model(inputs=[user_in, prod_in], outputs = y_out, name='neural_cf')\n",
        "model.compile(optimizer='adam', loss='mean_squared_error', metrics=['mean_squared_error'])\n"
      ]
    },
    {
      "cell_type": "code",
      "execution_count": 27,
      "metadata": {
        "colab": {
          "base_uri": "https://localhost:8080/"
        },
        "id": "zBxw5xr5Zauv",
        "outputId": "ea98291e-8d5e-4f6e-b425-4abe79cfb04e"
      },
      "outputs": [
        {
          "output_type": "stream",
          "name": "stdout",
          "text": [
            "Epoch 1/30\n",
            "3031/3031 [==============================] - 100s 32ms/step - loss: 0.0186 - mean_squared_error: 0.0186\n",
            "Epoch 2/30\n",
            "3031/3031 [==============================] - 50s 16ms/step - loss: 0.0134 - mean_squared_error: 0.0134\n",
            "Epoch 3/30\n",
            "3031/3031 [==============================] - 48s 16ms/step - loss: 0.0110 - mean_squared_error: 0.0110\n",
            "Epoch 4/30\n",
            "3031/3031 [==============================] - 47s 16ms/step - loss: 0.0086 - mean_squared_error: 0.0086\n",
            "Epoch 5/30\n",
            "3031/3031 [==============================] - 48s 16ms/step - loss: 0.0076 - mean_squared_error: 0.0076\n",
            "Epoch 6/30\n",
            "3031/3031 [==============================] - 47s 15ms/step - loss: 0.0070 - mean_squared_error: 0.0070\n",
            "Epoch 7/30\n",
            "3031/3031 [==============================] - 45s 15ms/step - loss: 0.0065 - mean_squared_error: 0.0065\n",
            "Epoch 8/30\n",
            "3031/3031 [==============================] - 47s 16ms/step - loss: 0.0062 - mean_squared_error: 0.0062\n",
            "Epoch 9/30\n",
            "3031/3031 [==============================] - 47s 15ms/step - loss: 0.0059 - mean_squared_error: 0.0059\n",
            "Epoch 10/30\n",
            "3031/3031 [==============================] - 46s 15ms/step - loss: 0.0057 - mean_squared_error: 0.0057\n",
            "Epoch 11/30\n",
            "3031/3031 [==============================] - 46s 15ms/step - loss: 0.0055 - mean_squared_error: 0.0055\n",
            "Epoch 12/30\n",
            "3031/3031 [==============================] - 46s 15ms/step - loss: 0.0054 - mean_squared_error: 0.0054\n",
            "Epoch 13/30\n",
            "3031/3031 [==============================] - 46s 15ms/step - loss: 0.0052 - mean_squared_error: 0.0052\n",
            "Epoch 14/30\n",
            "3031/3031 [==============================] - 45s 15ms/step - loss: 0.0051 - mean_squared_error: 0.0051\n",
            "Epoch 15/30\n",
            "3031/3031 [==============================] - 46s 15ms/step - loss: 0.0050 - mean_squared_error: 0.0050\n",
            "Epoch 16/30\n",
            "3031/3031 [==============================] - 47s 15ms/step - loss: 0.0049 - mean_squared_error: 0.0049\n",
            "Epoch 17/30\n",
            "3031/3031 [==============================] - 45s 15ms/step - loss: 0.0048 - mean_squared_error: 0.0048\n",
            "Epoch 18/30\n",
            "3031/3031 [==============================] - 46s 15ms/step - loss: 0.0047 - mean_squared_error: 0.0047\n",
            "Epoch 19/30\n",
            "3031/3031 [==============================] - 45s 15ms/step - loss: 0.0047 - mean_squared_error: 0.0047\n",
            "Epoch 20/30\n",
            "3031/3031 [==============================] - 45s 15ms/step - loss: 0.0046 - mean_squared_error: 0.0046\n",
            "Epoch 21/30\n",
            "3031/3031 [==============================] - 45s 15ms/step - loss: 0.0045 - mean_squared_error: 0.0045\n",
            "Epoch 22/30\n",
            "3031/3031 [==============================] - 45s 15ms/step - loss: 0.0045 - mean_squared_error: 0.0045\n",
            "Epoch 23/30\n",
            "3031/3031 [==============================] - 44s 15ms/step - loss: 0.0044 - mean_squared_error: 0.0044\n",
            "Epoch 24/30\n",
            "3031/3031 [==============================] - 44s 14ms/step - loss: 0.0044 - mean_squared_error: 0.0044\n",
            "Epoch 25/30\n",
            "3031/3031 [==============================] - 45s 15ms/step - loss: 0.0043 - mean_squared_error: 0.0043\n",
            "Epoch 26/30\n",
            "3031/3031 [==============================] - 44s 15ms/step - loss: 0.0043 - mean_squared_error: 0.0043\n",
            "Epoch 27/30\n",
            "3031/3031 [==============================] - 44s 15ms/step - loss: 0.0043 - mean_squared_error: 0.0043\n",
            "Epoch 28/30\n",
            "3031/3031 [==============================] - 44s 14ms/step - loss: 0.0042 - mean_squared_error: 0.0042\n",
            "Epoch 29/30\n",
            "3031/3031 [==============================] - 44s 15ms/step - loss: 0.0042 - mean_squared_error: 0.0042\n",
            "Epoch 30/30\n",
            "3031/3031 [==============================] - 44s 14ms/step - loss: 0.0042 - mean_squared_error: 0.0042\n"
          ]
        }
      ],
      "source": [
        "history = model.fit(x=[x_train[:,0], x_train[:,1]], y=y_train, epochs=30, batch_size = 5000, verbose=True)"
      ]
    },
    {
      "cell_type": "code",
      "execution_count": 28,
      "metadata": {
        "id": "mI8-84XgZauw"
      },
      "outputs": [],
      "source": [
        "model.save('/content/drive/MyDrive/Colab Notebooks/neural_cd_model')"
      ]
    },
    {
      "cell_type": "code",
      "execution_count": 29,
      "metadata": {
        "colab": {
          "base_uri": "https://localhost:8080/",
          "height": 296
        },
        "id": "PcxaPLe7Zauw",
        "outputId": "e52c5f45-9c44-4ab4-a8b4-a939d934b501"
      },
      "outputs": [
        {
          "output_type": "execute_result",
          "data": {
            "text/plain": [
              "Text(0.5, 0, 'epoch')"
            ]
          },
          "metadata": {},
          "execution_count": 29
        },
        {
          "output_type": "display_data",
          "data": {
            "text/plain": [
              "<Figure size 432x288 with 1 Axes>"
            ],
            "image/png": "[encoded data removed]"
          },
          "metadata": {
            "needs_background": "light"
          }
        }
      ],
      "source": [
        "plt.plot(history.history['loss'])\n",
        "plt.ylabel('loss')\n",
        "plt.xlabel('epoch')"
      ]
    },
    {
      "cell_type": "code",
      "execution_count": 30,
      "metadata": {
        "colab": {
          "base_uri": "https://localhost:8080/"
        },
        "id": "iADTymsuZauw",
        "outputId": "d09aca6c-7367-4839-eba7-64210ae4b2b3"
      },
      "outputs": [
        {
          "output_type": "stream",
          "name": "stdout",
          "text": [
            "118389/118389 [==============================] - 217s 2ms/step\n"
          ]
        },
        {
          "output_type": "execute_result",
          "data": {
            "text/plain": [
              "0.13767065"
            ]
          },
          "metadata": {},
          "execution_count": 30
        }
      ],
      "source": [
        "y_pred = model.predict(x=[x_test[:,0], x_test[:,1]])\n",
        "mean_squared_error(y_test, y_pred, squared=False)"
      ]
    },
    {
      "cell_type": "code",
      "execution_count": 31,
      "metadata": {
        "id": "WjoqThb7Zaux"
      },
      "outputs": [],
      "source": [
        "def user_recommendations(user, n_games,model):\n",
        "    \"\"\"\n",
        "        Takes in a user, n_games and a model to returns their top n_games recommendations that they have not rated yet.\n",
        "\n",
        "        Parameters:\n",
        "            user(str): name of user\n",
        "            n_games(int): number of games to show\n",
        "            model: the model to use for predictions\n",
        "            \n",
        "        Returns:\n",
        "            A list with each game as an index with a column for their estimated rating\n",
        "    \"\"\"\n",
        "    # Remove the boardgames that the user have rated\n",
        "    boardgame_id = df['BGGId'].unique()\n",
        "    user_list = df.loc[df['Username']==user, 'BGGId']\n",
        "    user_list = np.setdiff1d(boardgame_id, user_list)\n",
        "\n",
        "    # Create sparse dataset with username and bggid\n",
        "    testset = np.array([[user2user_encoded[user], game2game_encoded[bggid]] for bggid in user_list])\n",
        "    # Test model on the testset and determine the boardgames with the highest rating\n",
        "    predictions = model.predict(x=[testset[:,0],testset[:,1]])\n",
        "    # Reshaped the predictions array by Transposing it. \n",
        "    top_ratings_idx = predictions.T[0].argsort()[::-1][:n_games]\n",
        "    bgg_ids = user_list[top_ratings_idx]\n",
        "    bgg_name = [game_df.loc[game_df['BGGId'] ==id]['Name'].values[0] for id in bgg_ids]\n",
        "    print(f'Top boardgames for {user} in order are: \\n {bgg_name}')"
      ]
    },
    {
      "cell_type": "code",
      "execution_count": 32,
      "metadata": {
        "colab": {
          "base_uri": "https://localhost:8080/"
        },
        "id": "DeocRSS-Zaux",
        "outputId": "ef947ef8-45e2-4266-8ab0-8a4f677070e4"
      },
      "outputs": [
        {
          "output_type": "stream",
          "name": "stdout",
          "text": [
            "673/673 [==============================] - 2s 2ms/step\n",
            "Top boardgames for bennygui in order are: \n",
            " ['Shadows of Brimstone: City of the Ancients (Revised Edition)', 'Oathsworn: Into the Deepwood', 'Klaverjassen', 'Chess', 'Shadows of Brimstone: Swamps of Death (Revised Edition)']\n"
          ]
        }
      ],
      "source": [
        "user_recommendations('bennygui',5, model)"
      ]
    },
    {
      "cell_type": "code",
      "execution_count": 33,
      "metadata": {
        "id": "Zw8EhtyXZaux"
      },
      "outputs": [],
      "source": [
        "games = df[df['Username'] == 'bennygui'].sort_values('Rating',ascending=False)['BGGId'].values[:5]"
      ]
    },
    {
      "cell_type": "code",
      "execution_count": 34,
      "metadata": {
        "colab": {
          "base_uri": "https://localhost:8080/"
        },
        "id": "DXCEbjBQZaux",
        "outputId": "5c2a1529-e778-43ac-ff34-0662fe274cc0"
      },
      "outputs": [
        {
          "output_type": "stream",
          "name": "stdout",
          "text": [
            "Five Tribes\n",
            "Jaipur\n",
            "Isle of Skye: From Chieftain to King\n",
            "7 Wonders\n",
            "Marco Polo II: In the Service of the Khan\n"
          ]
        }
      ],
      "source": [
        "for game in games:\n",
        "    print(game_df[game_df['BGGId']==game]['Name'].values[0])"
      ]
    },
    {
      "cell_type": "code",
      "execution_count": 34,
      "metadata": {
        "id": "nGkMPyFwZauy"
      },
      "outputs": [],
      "source": []
    },
    {
      "cell_type": "code",
      "execution_count": 34,
      "metadata": {
        "id": "6ecayehWZauy"
      },
      "outputs": [],
      "source": []
    }
  ],
  "metadata": {
    "kernelspec": {
      "display_name": "py_test_env",
      "language": "python",
      "name": "python3"
    },
    "language_info": {
      "codemirror_mode": {
        "name": "ipython",
        "version": 3
      },
      "file_extension": ".py",
      "mimetype": "text/x-python",
      "name": "python",
      "nbconvert_exporter": "python",
      "pygments_lexer": "ipython3",
      "version": "3.9.15"
    },
    "orig_nbformat": 4,
    "colab": {
      "provenance": []
    },
    "accelerator": "GPU",
    "gpuClass": "standard"
  },
  "nbformat": 4,
  "nbformat_minor": 0
}