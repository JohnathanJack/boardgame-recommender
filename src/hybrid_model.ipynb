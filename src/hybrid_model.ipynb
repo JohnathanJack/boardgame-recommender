{
 "cells": [
  {
   "cell_type": "code",
   "execution_count": 1,
   "metadata": {},
   "outputs": [],
   "source": [
    "import numpy as np\n",
    "import pandas as pd\n",
    "from sklearn.preprocessing import MinMaxScaler\n",
    "from sklearn.model_selection import train_test_split\n",
    "from sklearn.metrics import mean_squared_error\n",
    "from sklearn.feature_extraction.text import TfidfVectorizer\n",
    "\n",
    "import tensorflow as tf\n",
    "from tensorflow import keras\n",
    "from keras.layers import Input, Embedding, Flatten, Dot, Dense, Concatenate\n",
    "from keras.models import Model\n",
    "\n",
    "import matplotlib.pyplot as plt"
   ]
  },
  {
   "cell_type": "code",
   "execution_count": 2,
   "metadata": {},
   "outputs": [],
   "source": [
    "df = pd.read_csv('C:/Users/John/Documents/LHL Lecture Material/boardgame-recommender/data/user_ratings.csv')\n",
    "df = df[['Username','BGGId','Rating']]\n",
    "game_df = pd.read_csv('C:/Users/John/Documents/LHL Lecture Material/boardgame-recommender/data/games.csv')"
   ]
  },
  {
   "cell_type": "code",
   "execution_count": 3,
   "metadata": {},
   "outputs": [],
   "source": [
    "df['Username'] = df['Username'].astype(str)\n",
    "df['BGGId'] = df['BGGId'].astype(int)\n",
    "df['Rating'] = df['Rating'].astype('float32')"
   ]
  },
  {
   "cell_type": "code",
   "execution_count": 4,
   "metadata": {},
   "outputs": [],
   "source": [
    "def recent_game(date):\n",
    "    \"\"\" \n",
    "    Transform the PublishedYear Column to a binary classification. If it was before 2016, it is old(0), otherwise new(1)\n",
    "    \n",
    "    Parameters:\n",
    "        date(int): the date publication    \n",
    "\n",
    "    Returns:\n",
    "        0 or 1 depending on the date provided. \n",
    "    \"\"\"\n",
    "    if date > 2016:\n",
    "        return 1\n",
    "    else: \n",
    "        return 0\n",
    "    \n",
    "game_df['new_or_old'] = game_df['YearPublished'].apply(recent_game)"
   ]
  },
  {
   "cell_type": "code",
   "execution_count": 5,
   "metadata": {},
   "outputs": [],
   "source": [
    "feats = ['BGGId','new_or_old','BayesAvgRating','BestPlayers','MfgPlaytime','NumUserRatings','NumComments']\n",
    "feats_df = game_df[feats]\n",
    "comb_feats_df = df.merge(feats_df, on='BGGId')\n",
    "feats = ['new_or_old','BayesAvgRating','BestPlayers','MfgPlaytime','NumUserRatings','NumComments']\n"
   ]
  },
  {
   "cell_type": "code",
   "execution_count": 6,
   "metadata": {},
   "outputs": [],
   "source": [
    "user_ids = df['Username'].unique().tolist()\n",
    "game_ids = df['BGGId'].unique().tolist()\n",
    "user2user_encoded = {x: i for i, x in enumerate(user_ids)}\n",
    "game2game_encoded = {x: i for i,x in enumerate(game_ids)}"
   ]
  },
  {
   "cell_type": "code",
   "execution_count": 7,
   "metadata": {},
   "outputs": [],
   "source": [
    "comb_feats_df['user'] = comb_feats_df['Username'].map(user2user_encoded)\n",
    "comb_feats_df['game'] = comb_feats_df['BGGId'].map(game2game_encoded)\n",
    "comb_feats_df['Rating'] = comb_feats_df['Rating'].values.astype(np.float32)"
   ]
  },
  {
   "cell_type": "code",
   "execution_count": 8,
   "metadata": {},
   "outputs": [],
   "source": [
    "X = comb_feats_df[['user','game','new_or_old','BayesAvgRating','BestPlayers','MfgPlaytime','NumUserRatings','NumComments']]\n",
    "y = comb_feats_df[['Rating']]\n",
    "scaler = MinMaxScaler()\n",
    "x_train, x_test, y_train, y_test = train_test_split(X,y,test_size=0.2, random_state=0)\n",
    "x_train[feats], x_test[feats] = scaler.fit_transform(x_train[feats]), scaler.transform(x_test[feats])\n",
    "y_train, y_test = scaler.fit_transform(y_train), scaler.transform(y_test)"
   ]
  },
  {
   "cell_type": "code",
   "execution_count": 9,
   "metadata": {},
   "outputs": [
    {
     "name": "stdout",
     "output_type": "stream",
     "text": [
      "Model: \"hybrid_model\"\n",
      "__________________________________________________________________________________________________\n",
      " Layer (type)                   Output Shape         Param #     Connected to                     \n",
      "==================================================================================================\n",
      " user_in (InputLayer)           [(None, 1)]          0           []                               \n",
      "                                                                                                  \n",
      " prod_in (InputLayer)           [(None, 1)]          0           []                               \n",
      "                                                                                                  \n",
      " nn_user_emb (Embedding)        (None, 1, 50)        20568750    ['user_in[0][0]']                \n",
      "                                                                                                  \n",
      " nn_prod_emb (Embedding)        (None, 1, 50)        1096250     ['prod_in[0][0]']                \n",
      "                                                                                                  \n",
      " mf_user_emb (Embedding)        (None, 1, 50)        20568750    ['user_in[0][0]']                \n",
      "                                                                                                  \n",
      " mf_prod_emb (Embedding)        (None, 1, 50)        1096250     ['prod_in[0][0]']                \n",
      "                                                                                                  \n",
      " nn_user_flat (Flatten)         (None, 50)           0           ['nn_user_emb[0][0]']            \n",
      "                                                                                                  \n",
      " nn_prod_flat (Flatten)         (None, 50)           0           ['nn_prod_emb[0][0]']            \n",
      "                                                                                                  \n",
      " mf_user_flat (Flatten)         (None, 50)           0           ['mf_user_emb[0][0]']            \n",
      "                                                                                                  \n",
      " mf_prod_flat (Flatten)         (None, 50)           0           ['mf_prod_emb[0][0]']            \n",
      "                                                                                                  \n",
      " concatenate (Concatenate)      (None, 100)          0           ['nn_user_flat[0][0]',           \n",
      "                                                                  'nn_prod_flat[0][0]']           \n",
      "                                                                                                  \n",
      " feat_in (InputLayer)           [(None, 6)]          0           []                               \n",
      "                                                                                                  \n",
      " mf_dot (Dot)                   (None, 1)            0           ['mf_user_flat[0][0]',           \n",
      "                                                                  'mf_prod_flat[0][0]']           \n",
      "                                                                                                  \n",
      " nn_dense (Dense)               (None, 25)           2525        ['concatenate[0][0]']            \n",
      "                                                                                                  \n",
      " feat_dense (Dense)             (None, 6)            42          ['feat_in[0][0]']                \n",
      "                                                                                                  \n",
      " concatenate_1 (Concatenate)    (None, 32)           0           ['mf_dot[0][0]',                 \n",
      "                                                                  'nn_dense[0][0]',               \n",
      "                                                                  'feat_dense[0][0]']             \n",
      "                                                                                                  \n",
      " y_out (Dense)                  (None, 1)            33          ['concatenate_1[0][0]']          \n",
      "                                                                                                  \n",
      "==================================================================================================\n",
      "Total params: 43,332,600\n",
      "Trainable params: 43,332,600\n",
      "Non-trainable params: 0\n",
      "__________________________________________________________________________________________________\n"
     ]
    }
   ],
   "source": [
    "# Hybrid Model\n",
    "embed_size = 50\n",
    "num_users = len(user2user_encoded)\n",
    "num_games = len(game2game_encoded)\n",
    "num_feats = len(feats)\n",
    "\n",
    "#input layer\n",
    "user_in = Input(name='user_in', shape=(1,))\n",
    "prod_in = Input(name='prod_in', shape=(1,))\n",
    "\n",
    "#matrix factorization\n",
    "mf_user_emb = Embedding(name='mf_user_emb', input_dim=num_users, output_dim = embed_size)(user_in)\n",
    "mf_user_flat = Flatten(name='mf_user_flat')(mf_user_emb)\n",
    "mf_prod_emb = Embedding(name='mf_prod_emb', input_dim=num_games, output_dim=embed_size)(prod_in)\n",
    "mf_prod_flat = Flatten(name='mf_prod_flat')(mf_prod_emb)\n",
    "mf_dot = Dot(name='mf_dot', normalize=True, axes=1)([mf_user_flat, mf_prod_flat])\n",
    "\n",
    "#neural network\n",
    "nn_user_emb = Embedding(name='nn_user_emb', input_dim = num_users, output_dim = embed_size)(user_in)\n",
    "nn_user_flat = Flatten(name='nn_user_flat')(nn_user_emb)\n",
    "nn_prod_emb = Embedding(name='nn_prod_emb', input_dim=num_games, output_dim= embed_size)(prod_in)\n",
    "nn_prod_flat = Flatten(name='nn_prod_flat')(nn_prod_emb)\n",
    "nn_concat = Concatenate()([nn_user_flat, nn_prod_flat])\n",
    "nn_dense = Dense(name='nn_dense', units=int(embed_size/2), activation='relu')(nn_concat)\n",
    "\n",
    "# Product features\n",
    "feats_in = Input(name='feat_in', shape=(num_feats,))\n",
    "feats_dense = Dense(name='feat_dense', units = num_feats, activation = 'relu')(feats_in)\n",
    "\n",
    "#Merge both together\n",
    "combo = Concatenate()([mf_dot, nn_dense, feats_dense])\n",
    "y_out = Dense(name='y_out', units=1, activation='linear')(combo)\n",
    "\n",
    "hyb_model = Model(inputs=[user_in, prod_in, feats_in], outputs = y_out, name='hybrid_model')\n",
    "hyb_model.compile(optimizer='adam', loss='mean_squared_error', metrics=['mean_squared_error'])\n",
    "hyb_model.summary()"
   ]
  },
  {
   "cell_type": "code",
   "execution_count": 10,
   "metadata": {},
   "outputs": [
    {
     "name": "stdout",
     "output_type": "stream",
     "text": [
      "Epoch 1/3\n",
      "3031/3031 [==============================] - 1292s 426ms/step - loss: 0.0205 - mean_squared_error: 0.0205\n",
      "Epoch 2/3\n",
      "3031/3031 [==============================] - 1284s 424ms/step - loss: 0.0136 - mean_squared_error: 0.0136\n",
      "Epoch 3/3\n",
      "3031/3031 [==============================] - 1239s 409ms/step - loss: 0.0117 - mean_squared_error: 0.0117\n"
     ]
    }
   ],
   "source": [
    "history = hyb_model.fit(x=[x_train['user'], x_train['game'], x_train[feats]], y=y_train, epochs=3, batch_size = 5000, verbose=True)"
   ]
  },
  {
   "cell_type": "code",
   "execution_count": 13,
   "metadata": {},
   "outputs": [
    {
     "name": "stdout",
     "output_type": "stream",
     "text": [
      "118389/118389 [==============================] - 80s 672us/step\n"
     ]
    },
    {
     "data": {
      "text/plain": [
       "0.11624323"
      ]
     },
     "execution_count": 13,
     "metadata": {},
     "output_type": "execute_result"
    }
   ],
   "source": [
    "y_pred = hyb_model.predict(x=[x_test['user'], x_test['game'],x_test[feats]])\n",
    "mean_squared_error(y_test, y_pred, squared=False)"
   ]
  },
  {
   "cell_type": "code",
   "execution_count": 14,
   "metadata": {},
   "outputs": [
    {
     "name": "stderr",
     "output_type": "stream",
     "text": [
      "WARNING:absl:Found untraced functions such as _update_step_xla while saving (showing 1 of 1). These functions will not be directly callable after loading.\n"
     ]
    },
    {
     "name": "stdout",
     "output_type": "stream",
     "text": [
      "INFO:tensorflow:Assets written to: C:/Users/John/Documents/LHL Lecture Material/boardgame-recommender/src/models/neural_cf_model\\assets\n"
     ]
    },
    {
     "name": "stderr",
     "output_type": "stream",
     "text": [
      "INFO:tensorflow:Assets written to: C:/Users/John/Documents/LHL Lecture Material/boardgame-recommender/src/models/neural_cf_model\\assets\n"
     ]
    }
   ],
   "source": [
    "hyb_model.save('C:/Users/John/Documents/LHL Lecture Material/boardgame-recommender/src/models/neural_cf_model')"
   ]
  },
  {
   "cell_type": "code",
   "execution_count": null,
   "metadata": {},
   "outputs": [],
   "source": []
  }
 ],
 "metadata": {
  "kernelspec": {
   "display_name": "py_test_env",
   "language": "python",
   "name": "python3"
  },
  "language_info": {
   "codemirror_mode": {
    "name": "ipython",
    "version": 3
   },
   "file_extension": ".py",
   "mimetype": "text/x-python",
   "name": "python",
   "nbconvert_exporter": "python",
   "pygments_lexer": "ipython3",
   "version": "3.9.15"
  },
  "orig_nbformat": 4
 },
 "nbformat": 4,
 "nbformat_minor": 2
}
