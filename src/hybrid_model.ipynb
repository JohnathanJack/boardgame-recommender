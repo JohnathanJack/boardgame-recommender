{
  "cells": [
    {
      "cell_type": "code",
      "execution_count": 1,
      "metadata": {
        "id": "0ICtdpTm4zwc"
      },
      "outputs": [],
      "source": [
        "import numpy as np\n",
        "import pandas as pd\n",
        "from sklearn.preprocessing import MinMaxScaler\n",
        "from sklearn.model_selection import train_test_split\n",
        "from sklearn.metrics import mean_squared_error\n",
        "\n",
        "import tensorflow as tf\n",
        "from tensorflow import keras\n",
        "from keras.layers import Input, Embedding, Flatten, Dot, Dense, Concatenate\n",
        "from keras.models import Model\n",
        "\n",
        "import matplotlib.pyplot as plt"
      ]
    },
    {
      "cell_type": "code",
      "execution_count": 2,
      "metadata": {
        "colab": {
          "base_uri": "https://localhost:8080/"
        },
        "id": "vGl1RMdC46u6",
        "outputId": "e21113c6-a720-40fe-a5c0-71ace75938d7"
      },
      "outputs": [
        {
          "name": "stdout",
          "output_type": "stream",
          "text": [
            "Mounted at /content/drive\n"
          ]
        }
      ],
      "source": [
        "# from google.colab import drive\n",
        "# drive.mount('/content/drive')"
      ]
    },
    {
      "cell_type": "code",
      "execution_count": 3,
      "metadata": {
        "id": "bkcjPJfk4zwd"
      },
      "outputs": [],
      "source": [
        "## Google Collab\n",
        "# df = pd.read_csv('/content/drive/MyDrive/Colab Notebooks/user_ratings.csv')\n",
        "# df = df[['Username','BGGId','Rating']]\n",
        "# game_df = pd.read_csv('/content/drive/MyDrive/Colab Notebooks/games.csv')"
      ]
    },
    {
      "cell_type": "code",
      "execution_count": 2,
      "metadata": {
        "id": "YsdXvoNFnCVr"
      },
      "outputs": [],
      "source": [
        "## Local pc\n",
        "df = pd.read_csv('C:/Users/John/Documents/LHL Lecture Material/boardgame-recommender/data/user_ratings.csv')\n",
        "df = df[['Username','BGGId','Rating']]\n",
        "game_df = pd.read_csv('C:/Users/John/Documents/LHL Lecture Material/boardgame-recommender/data/games.csv')"
      ]
    },
    {
      "cell_type": "code",
      "execution_count": 3,
      "metadata": {
        "id": "Fa9amTiI4zwd"
      },
      "outputs": [],
      "source": [
        "# Ensure all datapoints are the same type\n",
        "df['Username'] = df['Username'].astype(str)\n",
        "df['BGGId'] = df['BGGId'].astype(int)\n",
        "df['Rating'] = df['Rating'].astype('float32')"
      ]
    },
    {
      "cell_type": "code",
      "execution_count": 4,
      "metadata": {
        "id": "pNoj2Z014zwd"
      },
      "outputs": [],
      "source": [
        "def recent_game(date):\n",
        "    \"\"\" \n",
        "    Transform the PublishedYear Column to a binary classification. If it was before 2016, it is old(0), otherwise new(1)\n",
        "    \n",
        "    Parameters:\n",
        "        date(int): the date publication    \n",
        "\n",
        "    Returns:\n",
        "        0 or 1 depending on the date provided. \n",
        "    \"\"\"\n",
        "    if date > 2016:\n",
        "        return 1\n",
        "    else: \n",
        "        return 0\n",
        "    \n",
        "game_df['new_or_old'] = game_df['YearPublished'].apply(recent_game)"
      ]
    },
    {
      "cell_type": "code",
      "execution_count": 5,
      "metadata": {},
      "outputs": [],
      "source": [
        "# Encode the BGGId and Username to a certain value via a dictionary\n",
        "user_ids = df['Username'].unique().tolist()\n",
        "game_ids = df['BGGId'].unique().tolist()\n",
        "user2user_encoded = {x: i for i, x in enumerate(user_ids)}\n",
        "game2game_encoded = {x: i for i,x in enumerate(game_ids)}"
      ]
    },
    {
      "cell_type": "code",
      "execution_count": 9,
      "metadata": {},
      "outputs": [],
      "source": [
        "def df_with_features(df1, df2):\n",
        "    \"\"\"\n",
        "        Creates a dataframe with the necessary features (Username, BGGId, Rating, user, game, new_or_old, BayesAvgRating, BestPlayers, MfgPlaytime, NumUserRatings) for predictions\n",
        "\n",
        "        Parameters:\n",
        "            df1: Dataframe with features: YearPublished, BayesAvgRating, BestPlayers, MfgPlaytime, NumUserRatings\n",
        "            df2: Dataframe with features: Username, BGGId, Rating\n",
        "\n",
        "        Returns:\n",
        "            A combined dataframe with the features: Username, BGGId, Rating, user, game, new_or_old, BayesAvgRating, BestPlayers, MfgPlaytime, NumUserRatings\n",
        "\n",
        "    \"\"\"\n",
        "\n",
        "    feats = ['BGGId','new_or_old','BayesAvgRating','BestPlayers','MfgPlaytime','NumUserRatings']\n",
        "    feats_df = df1[feats]\n",
        "    combined_features_df = feats_df.merge(df2, on='BGGId')\n",
        "    combined_features_df['user_encode'] = combined_features_df['Username'].map(user2user_encoded)\n",
        "    combined_features_df['bggid_encode'] = combined_features_df['BGGId'].map(game2game_encoded)\n",
        "    return combined_features_df"
      ]
    },
    {
      "cell_type": "code",
      "execution_count": 10,
      "metadata": {},
      "outputs": [
        {
          "data": {
            "text/html": [
              "<div>\n",
              "<style scoped>\n",
              "    .dataframe tbody tr th:only-of-type {\n",
              "        vertical-align: middle;\n",
              "    }\n",
              "\n",
              "    .dataframe tbody tr th {\n",
              "        vertical-align: top;\n",
              "    }\n",
              "\n",
              "    .dataframe thead th {\n",
              "        text-align: right;\n",
              "    }\n",
              "</style>\n",
              "<table border=\"1\" class=\"dataframe\">\n",
              "  <thead>\n",
              "    <tr style=\"text-align: right;\">\n",
              "      <th></th>\n",
              "      <th>BGGId</th>\n",
              "      <th>new_or_old</th>\n",
              "      <th>BayesAvgRating</th>\n",
              "      <th>BestPlayers</th>\n",
              "      <th>MfgPlaytime</th>\n",
              "      <th>NumUserRatings</th>\n",
              "      <th>Username</th>\n",
              "      <th>Rating</th>\n",
              "      <th>user_encode</th>\n",
              "      <th>bggid_encode</th>\n",
              "    </tr>\n",
              "  </thead>\n",
              "  <tbody>\n",
              "    <tr>\n",
              "      <th>0</th>\n",
              "      <td>1</td>\n",
              "      <td>0</td>\n",
              "      <td>7.10363</td>\n",
              "      <td>5</td>\n",
              "      <td>240</td>\n",
              "      <td>5354</td>\n",
              "      <td>ArashDaemon666</td>\n",
              "      <td>4.0</td>\n",
              "      <td>153134</td>\n",
              "      <td>10669</td>\n",
              "    </tr>\n",
              "    <tr>\n",
              "      <th>1</th>\n",
              "      <td>1</td>\n",
              "      <td>0</td>\n",
              "      <td>7.10363</td>\n",
              "      <td>5</td>\n",
              "      <td>240</td>\n",
              "      <td>5354</td>\n",
              "      <td>SWxNW</td>\n",
              "      <td>4.0</td>\n",
              "      <td>120151</td>\n",
              "      <td>10669</td>\n",
              "    </tr>\n",
              "    <tr>\n",
              "      <th>2</th>\n",
              "      <td>1</td>\n",
              "      <td>0</td>\n",
              "      <td>7.10363</td>\n",
              "      <td>5</td>\n",
              "      <td>240</td>\n",
              "      <td>5354</td>\n",
              "      <td>Dr_Dog</td>\n",
              "      <td>4.0</td>\n",
              "      <td>153385</td>\n",
              "      <td>10669</td>\n",
              "    </tr>\n",
              "    <tr>\n",
              "      <th>3</th>\n",
              "      <td>1</td>\n",
              "      <td>0</td>\n",
              "      <td>7.10363</td>\n",
              "      <td>5</td>\n",
              "      <td>240</td>\n",
              "      <td>5354</td>\n",
              "      <td>zantos</td>\n",
              "      <td>4.0</td>\n",
              "      <td>141658</td>\n",
              "      <td>10669</td>\n",
              "    </tr>\n",
              "    <tr>\n",
              "      <th>4</th>\n",
              "      <td>1</td>\n",
              "      <td>0</td>\n",
              "      <td>7.10363</td>\n",
              "      <td>5</td>\n",
              "      <td>240</td>\n",
              "      <td>5354</td>\n",
              "      <td>kittykat27</td>\n",
              "      <td>4.0</td>\n",
              "      <td>71882</td>\n",
              "      <td>10669</td>\n",
              "    </tr>\n",
              "    <tr>\n",
              "      <th>...</th>\n",
              "      <td>...</td>\n",
              "      <td>...</td>\n",
              "      <td>...</td>\n",
              "      <td>...</td>\n",
              "      <td>...</td>\n",
              "      <td>...</td>\n",
              "      <td>...</td>\n",
              "      <td>...</td>\n",
              "      <td>...</td>\n",
              "      <td>...</td>\n",
              "    </tr>\n",
              "    <tr>\n",
              "      <th>18942210</th>\n",
              "      <td>349161</td>\n",
              "      <td>0</td>\n",
              "      <td>5.50806</td>\n",
              "      <td>0</td>\n",
              "      <td>45</td>\n",
              "      <td>70</td>\n",
              "      <td>Charly_</td>\n",
              "      <td>10.0</td>\n",
              "      <td>380770</td>\n",
              "      <td>13924</td>\n",
              "    </tr>\n",
              "    <tr>\n",
              "      <th>18942211</th>\n",
              "      <td>349161</td>\n",
              "      <td>0</td>\n",
              "      <td>5.50806</td>\n",
              "      <td>0</td>\n",
              "      <td>45</td>\n",
              "      <td>70</td>\n",
              "      <td>MissMeepleDesign_FR</td>\n",
              "      <td>9.0</td>\n",
              "      <td>380771</td>\n",
              "      <td>13924</td>\n",
              "    </tr>\n",
              "    <tr>\n",
              "      <th>18942212</th>\n",
              "      <td>349161</td>\n",
              "      <td>0</td>\n",
              "      <td>5.50806</td>\n",
              "      <td>0</td>\n",
              "      <td>45</td>\n",
              "      <td>70</td>\n",
              "      <td>greggyBSW</td>\n",
              "      <td>9.0</td>\n",
              "      <td>8419</td>\n",
              "      <td>13924</td>\n",
              "    </tr>\n",
              "    <tr>\n",
              "      <th>18942213</th>\n",
              "      <td>349161</td>\n",
              "      <td>0</td>\n",
              "      <td>5.50806</td>\n",
              "      <td>0</td>\n",
              "      <td>45</td>\n",
              "      <td>70</td>\n",
              "      <td>motts</td>\n",
              "      <td>8.0</td>\n",
              "      <td>62968</td>\n",
              "      <td>13924</td>\n",
              "    </tr>\n",
              "    <tr>\n",
              "      <th>18942214</th>\n",
              "      <td>349161</td>\n",
              "      <td>0</td>\n",
              "      <td>5.50806</td>\n",
              "      <td>0</td>\n",
              "      <td>45</td>\n",
              "      <td>70</td>\n",
              "      <td>beam022</td>\n",
              "      <td>8.0</td>\n",
              "      <td>285281</td>\n",
              "      <td>13924</td>\n",
              "    </tr>\n",
              "  </tbody>\n",
              "</table>\n",
              "<p>18942215 rows × 10 columns</p>\n",
              "</div>"
            ],
            "text/plain": [
              "           BGGId  new_or_old  BayesAvgRating  BestPlayers  MfgPlaytime  \\\n",
              "0              1           0         7.10363            5          240   \n",
              "1              1           0         7.10363            5          240   \n",
              "2              1           0         7.10363            5          240   \n",
              "3              1           0         7.10363            5          240   \n",
              "4              1           0         7.10363            5          240   \n",
              "...          ...         ...             ...          ...          ...   \n",
              "18942210  349161           0         5.50806            0           45   \n",
              "18942211  349161           0         5.50806            0           45   \n",
              "18942212  349161           0         5.50806            0           45   \n",
              "18942213  349161           0         5.50806            0           45   \n",
              "18942214  349161           0         5.50806            0           45   \n",
              "\n",
              "          NumUserRatings             Username  Rating  user_encode  \\\n",
              "0                   5354       ArashDaemon666     4.0       153134   \n",
              "1                   5354                SWxNW     4.0       120151   \n",
              "2                   5354               Dr_Dog     4.0       153385   \n",
              "3                   5354               zantos     4.0       141658   \n",
              "4                   5354           kittykat27     4.0        71882   \n",
              "...                  ...                  ...     ...          ...   \n",
              "18942210              70              Charly_    10.0       380770   \n",
              "18942211              70  MissMeepleDesign_FR     9.0       380771   \n",
              "18942212              70            greggyBSW     9.0         8419   \n",
              "18942213              70                motts     8.0        62968   \n",
              "18942214              70              beam022     8.0       285281   \n",
              "\n",
              "          bggid_encode  \n",
              "0                10669  \n",
              "1                10669  \n",
              "2                10669  \n",
              "3                10669  \n",
              "4                10669  \n",
              "...                ...  \n",
              "18942210         13924  \n",
              "18942211         13924  \n",
              "18942212         13924  \n",
              "18942213         13924  \n",
              "18942214         13924  \n",
              "\n",
              "[18942215 rows x 10 columns]"
            ]
          },
          "execution_count": 10,
          "metadata": {},
          "output_type": "execute_result"
        }
      ],
      "source": [
        "combined_features_df = df_with_features(game_df, df)\n",
        "combined_features_df"
      ]
    },
    {
      "cell_type": "code",
      "execution_count": null,
      "metadata": {},
      "outputs": [],
      "source": [
        "feats = ['new_or_old','BayesAvgRating','BestPlayers','MfgPlaytime','NumUserRatings']\n",
        "feats_to_scale = ['BayesAvgRating','MfgPlaytime','NumUserRatings']"
      ]
    },
    {
      "cell_type": "code",
      "execution_count": 9,
      "metadata": {
        "id": "ZbGGRUZC4zwe"
      },
      "outputs": [],
      "source": [
        "# Create train and test sets that are scaled\n",
        "X = combined_features_df[['user_encode','bggid_encode','new_or_old','BayesAvgRating','BestPlayers','MfgPlaytime','NumUserRatings']]\n",
        "y = combined_features_df[['Rating']]\n",
        "scaler = MinMaxScaler()\n",
        "x_train, x_test, y_train, y_test = train_test_split(X,y,test_size=0.2, random_state=0)\n",
        "y_train, y_test = scaler.fit_transform(y_train), scaler.transform(y_test)\n",
        "x_train[feats_to_scale], x_test[feats_to_scale] = scaler.fit_transform(x_train[feats_to_scale]), scaler.transform(x_test[feats_to_scale])"
      ]
    },
    {
      "cell_type": "code",
      "execution_count": 10,
      "metadata": {
        "colab": {
          "base_uri": "https://localhost:8080/"
        },
        "id": "dt4lITYk4zwe",
        "outputId": "1c23bec7-8bc3-4573-c28b-ff4b581612c0"
      },
      "outputs": [
        {
          "name": "stdout",
          "output_type": "stream",
          "text": [
            "Model: \"hybrid_model\"\n",
            "__________________________________________________________________________________________________\n",
            " Layer (type)                   Output Shape         Param #     Connected to                     \n",
            "==================================================================================================\n",
            " user_in (InputLayer)           [(None, 1)]          0           []                               \n",
            "                                                                                                  \n",
            " prod_in (InputLayer)           [(None, 1)]          0           []                               \n",
            "                                                                                                  \n",
            " nn_user_emb (Embedding)        (None, 1, 50)        20568750    ['user_in[0][0]']                \n",
            "                                                                                                  \n",
            " nn_prod_emb (Embedding)        (None, 1, 50)        1096250     ['prod_in[0][0]']                \n",
            "                                                                                                  \n",
            " mf_user_emb (Embedding)        (None, 1, 50)        20568750    ['user_in[0][0]']                \n",
            "                                                                                                  \n",
            " mf_prod_emb (Embedding)        (None, 1, 50)        1096250     ['prod_in[0][0]']                \n",
            "                                                                                                  \n",
            " nn_user_flat (Flatten)         (None, 50)           0           ['nn_user_emb[0][0]']            \n",
            "                                                                                                  \n",
            " nn_prod_flat (Flatten)         (None, 50)           0           ['nn_prod_emb[0][0]']            \n",
            "                                                                                                  \n",
            " mf_user_flat (Flatten)         (None, 50)           0           ['mf_user_emb[0][0]']            \n",
            "                                                                                                  \n",
            " mf_prod_flat (Flatten)         (None, 50)           0           ['mf_prod_emb[0][0]']            \n",
            "                                                                                                  \n",
            " concatenate (Concatenate)      (None, 100)          0           ['nn_user_flat[0][0]',           \n",
            "                                                                  'nn_prod_flat[0][0]']           \n",
            "                                                                                                  \n",
            " feat_in (InputLayer)           [(None, 5)]          0           []                               \n",
            "                                                                                                  \n",
            " mf_dot (Dot)                   (None, 1)            0           ['mf_user_flat[0][0]',           \n",
            "                                                                  'mf_prod_flat[0][0]']           \n",
            "                                                                                                  \n",
            " nn_dense (Dense)               (None, 25)           2525        ['concatenate[0][0]']            \n",
            "                                                                                                  \n",
            " feat_dense (Dense)             (None, 5)            30          ['feat_in[0][0]']                \n",
            "                                                                                                  \n",
            " concatenate_1 (Concatenate)    (None, 31)           0           ['mf_dot[0][0]',                 \n",
            "                                                                  'nn_dense[0][0]',               \n",
            "                                                                  'feat_dense[0][0]']             \n",
            "                                                                                                  \n",
            " y_out (Dense)                  (None, 1)            32          ['concatenate_1[0][0]']          \n",
            "                                                                                                  \n",
            "==================================================================================================\n",
            "Total params: 43,332,587\n",
            "Trainable params: 43,332,587\n",
            "Non-trainable params: 0\n",
            "__________________________________________________________________________________________________\n"
          ]
        }
      ],
      "source": [
        "# Hybrid Model\n",
        "embed_size = 50\n",
        "num_users = len(user2user_encoded)\n",
        "num_games = len(game2game_encoded)\n",
        "num_feats = len(feats)\n",
        "\n",
        "#input layer\n",
        "user_in = Input(name='user_in', shape=(1,))\n",
        "prod_in = Input(name='prod_in', shape=(1,))\n",
        "\n",
        "#matrix factorization\n",
        "mf_user_emb = Embedding(name='mf_user_emb', input_dim=num_users, output_dim = embed_size)(user_in)\n",
        "mf_user_flat = Flatten(name='mf_user_flat')(mf_user_emb)\n",
        "mf_prod_emb = Embedding(name='mf_prod_emb', input_dim=num_games, output_dim=embed_size)(prod_in)\n",
        "mf_prod_flat = Flatten(name='mf_prod_flat')(mf_prod_emb)\n",
        "mf_dot = Dot(name='mf_dot', normalize=True, axes=1)([mf_user_flat, mf_prod_flat])\n",
        "\n",
        "#neural network\n",
        "nn_user_emb = Embedding(name='nn_user_emb', input_dim = num_users, output_dim = embed_size)(user_in)\n",
        "nn_user_flat = Flatten(name='nn_user_flat')(nn_user_emb)\n",
        "nn_prod_emb = Embedding(name='nn_prod_emb', input_dim=num_games, output_dim= embed_size)(prod_in)\n",
        "nn_prod_flat = Flatten(name='nn_prod_flat')(nn_prod_emb)\n",
        "nn_concat = Concatenate()([nn_user_flat, nn_prod_flat])\n",
        "nn_dense = Dense(name='nn_dense', units=int(embed_size/2), activation='relu')(nn_concat)\n",
        "\n",
        "# Product features\n",
        "feats_in = Input(name='feat_in', shape=(num_feats,))\n",
        "feats_dense = Dense(name='feat_dense', units = num_feats, activation = 'relu')(feats_in)\n",
        "\n",
        "#Merge both together\n",
        "combo = Concatenate()([mf_dot, nn_dense, feats_dense])\n",
        "y_out = Dense(name='y_out', units=1, activation='linear')(combo)\n",
        "\n",
        "hyb_model = Model(inputs=[user_in, prod_in, feats_in], outputs = y_out, name='hybrid_model')\n",
        "hyb_model.compile(optimizer='adam', loss='mean_squared_error', metrics=['mean_squared_error'])\n",
        "hyb_model.summary()"
      ]
    },
    {
      "cell_type": "code",
      "execution_count": 11,
      "metadata": {
        "colab": {
          "base_uri": "https://localhost:8080/"
        },
        "id": "IJZERzG64zwf",
        "outputId": "09445795-08c0-4a51-ec61-4186f3398e55"
      },
      "outputs": [
        {
          "name": "stdout",
          "output_type": "stream",
          "text": [
            "Epoch 1/50\n",
            "3031/3031 [==============================] - 121s 37ms/step - loss: 0.0472 - mean_squared_error: 0.0472\n",
            "Epoch 2/50\n",
            "3031/3031 [==============================] - 52s 17ms/step - loss: 0.0140 - mean_squared_error: 0.0140\n",
            "Epoch 3/50\n",
            "3031/3031 [==============================] - 52s 17ms/step - loss: 0.0116 - mean_squared_error: 0.0116\n",
            "Epoch 4/50\n",
            "3031/3031 [==============================] - 49s 16ms/step - loss: 0.0091 - mean_squared_error: 0.0091\n",
            "Epoch 5/50\n",
            "3031/3031 [==============================] - 49s 16ms/step - loss: 0.0080 - mean_squared_error: 0.0080\n",
            "Epoch 6/50\n",
            "3031/3031 [==============================] - 48s 16ms/step - loss: 0.0073 - mean_squared_error: 0.0073\n",
            "Epoch 7/50\n",
            "3031/3031 [==============================] - 47s 16ms/step - loss: 0.0068 - mean_squared_error: 0.0068\n",
            "Epoch 8/50\n",
            "3031/3031 [==============================] - 49s 16ms/step - loss: 0.0065 - mean_squared_error: 0.0065\n",
            "Epoch 9/50\n",
            "3031/3031 [==============================] - 47s 16ms/step - loss: 0.0062 - mean_squared_error: 0.0062\n",
            "Epoch 10/50\n",
            "3031/3031 [==============================] - 47s 16ms/step - loss: 0.0059 - mean_squared_error: 0.0059\n",
            "Epoch 11/50\n",
            "3031/3031 [==============================] - 48s 16ms/step - loss: 0.0057 - mean_squared_error: 0.0057\n",
            "Epoch 12/50\n",
            "3031/3031 [==============================] - 48s 16ms/step - loss: 0.0056 - mean_squared_error: 0.0056\n",
            "Epoch 13/50\n",
            "3031/3031 [==============================] - 48s 16ms/step - loss: 0.0054 - mean_squared_error: 0.0054\n",
            "Epoch 14/50\n",
            "3031/3031 [==============================] - 47s 15ms/step - loss: 0.0053 - mean_squared_error: 0.0053\n",
            "Epoch 15/50\n",
            "3031/3031 [==============================] - 47s 16ms/step - loss: 0.0052 - mean_squared_error: 0.0052\n",
            "Epoch 16/50\n",
            "3031/3031 [==============================] - 47s 15ms/step - loss: 0.0051 - mean_squared_error: 0.0051\n",
            "Epoch 17/50\n",
            "3031/3031 [==============================] - 47s 15ms/step - loss: 0.0050 - mean_squared_error: 0.0050\n",
            "Epoch 18/50\n",
            "3031/3031 [==============================] - 46s 15ms/step - loss: 0.0049 - mean_squared_error: 0.0049\n",
            "Epoch 19/50\n",
            "3031/3031 [==============================] - 47s 16ms/step - loss: 0.0048 - mean_squared_error: 0.0048\n",
            "Epoch 20/50\n",
            "3031/3031 [==============================] - 47s 15ms/step - loss: 0.0047 - mean_squared_error: 0.0047\n",
            "Epoch 21/50\n",
            "3031/3031 [==============================] - 46s 15ms/step - loss: 0.0047 - mean_squared_error: 0.0047\n",
            "Epoch 22/50\n",
            "3031/3031 [==============================] - 47s 15ms/step - loss: 0.0046 - mean_squared_error: 0.0046\n",
            "Epoch 23/50\n",
            "3031/3031 [==============================] - 47s 15ms/step - loss: 0.0046 - mean_squared_error: 0.0046\n",
            "Epoch 24/50\n",
            "3031/3031 [==============================] - 47s 16ms/step - loss: 0.0045 - mean_squared_error: 0.0045\n",
            "Epoch 25/50\n",
            "3031/3031 [==============================] - 46s 15ms/step - loss: 0.0045 - mean_squared_error: 0.0045\n",
            "Epoch 26/50\n",
            "3031/3031 [==============================] - 46s 15ms/step - loss: 0.0044 - mean_squared_error: 0.0044\n",
            "Epoch 27/50\n",
            "3031/3031 [==============================] - 47s 16ms/step - loss: 0.0044 - mean_squared_error: 0.0044\n",
            "Epoch 28/50\n",
            "3031/3031 [==============================] - 46s 15ms/step - loss: 0.0044 - mean_squared_error: 0.0044\n",
            "Epoch 29/50\n",
            "3031/3031 [==============================] - 47s 15ms/step - loss: 0.0043 - mean_squared_error: 0.0043\n",
            "Epoch 30/50\n",
            "3031/3031 [==============================] - 48s 16ms/step - loss: 0.0043 - mean_squared_error: 0.0043\n",
            "Epoch 31/50\n",
            "3031/3031 [==============================] - 46s 15ms/step - loss: 0.0043 - mean_squared_error: 0.0043\n",
            "Epoch 32/50\n",
            "3031/3031 [==============================] - 49s 16ms/step - loss: 0.0042 - mean_squared_error: 0.0042\n",
            "Epoch 33/50\n",
            "3031/3031 [==============================] - 47s 15ms/step - loss: 0.0042 - mean_squared_error: 0.0042\n",
            "Epoch 34/50\n",
            "3031/3031 [==============================] - 47s 16ms/step - loss: 0.0042 - mean_squared_error: 0.0042\n",
            "Epoch 35/50\n",
            "3031/3031 [==============================] - 46s 15ms/step - loss: 0.0041 - mean_squared_error: 0.0041\n",
            "Epoch 36/50\n",
            "3031/3031 [==============================] - 47s 16ms/step - loss: 0.0041 - mean_squared_error: 0.0041\n",
            "Epoch 37/50\n",
            "3031/3031 [==============================] - 47s 16ms/step - loss: 0.0041 - mean_squared_error: 0.0041\n",
            "Epoch 38/50\n",
            "3031/3031 [==============================] - 47s 15ms/step - loss: 0.0041 - mean_squared_error: 0.0041\n",
            "Epoch 39/50\n",
            "3031/3031 [==============================] - 47s 16ms/step - loss: 0.0041 - mean_squared_error: 0.0041\n",
            "Epoch 40/50\n",
            "3031/3031 [==============================] - 46s 15ms/step - loss: 0.0040 - mean_squared_error: 0.0040\n",
            "Epoch 41/50\n",
            "3031/3031 [==============================] - 47s 16ms/step - loss: 0.0040 - mean_squared_error: 0.0040\n",
            "Epoch 42/50\n",
            "3031/3031 [==============================] - 47s 16ms/step - loss: 0.0040 - mean_squared_error: 0.0040\n",
            "Epoch 43/50\n",
            "3031/3031 [==============================] - 47s 16ms/step - loss: 0.0040 - mean_squared_error: 0.0040\n",
            "Epoch 44/50\n",
            "3031/3031 [==============================] - 48s 16ms/step - loss: 0.0040 - mean_squared_error: 0.0040\n",
            "Epoch 45/50\n",
            "3031/3031 [==============================] - 47s 15ms/step - loss: 0.0039 - mean_squared_error: 0.0039\n",
            "Epoch 46/50\n",
            "3031/3031 [==============================] - 47s 16ms/step - loss: 0.0039 - mean_squared_error: 0.0039\n",
            "Epoch 47/50\n",
            "3031/3031 [==============================] - 46s 15ms/step - loss: 0.0039 - mean_squared_error: 0.0039\n",
            "Epoch 48/50\n",
            "3031/3031 [==============================] - 46s 15ms/step - loss: 0.0039 - mean_squared_error: 0.0039\n",
            "Epoch 49/50\n",
            "3031/3031 [==============================] - 47s 15ms/step - loss: 0.0039 - mean_squared_error: 0.0039\n",
            "Epoch 50/50\n",
            "3031/3031 [==============================] - 46s 15ms/step - loss: 0.0039 - mean_squared_error: 0.0039\n"
          ]
        }
      ],
      "source": [
        "history = hyb_model.fit(x=[x_train['user'], x_train['game'], x_train[feats]], y=y_train, epochs=50, batch_size = 5000, verbose=True)"
      ]
    },
    {
      "cell_type": "code",
      "execution_count": 12,
      "metadata": {
        "colab": {
          "base_uri": "https://localhost:8080/",
          "height": 296
        },
        "id": "bko1HjvJypjl",
        "outputId": "03e358c1-33e7-4113-f6ca-6734985ed6c4"
      },
      "outputs": [
        {
          "data": {
            "text/plain": [
              "Text(0.5, 0, 'epoch')"
            ]
          },
          "execution_count": 12,
          "metadata": {},
          "output_type": "execute_result"
        },
        {
          "data": {
            "image/png": "[encoded data removed]",
            "text/plain": [
              "<Figure size 432x288 with 1 Axes>"
            ]
          },
          "metadata": {
            "needs_background": "light"
          },
          "output_type": "display_data"
        }
      ],
      "source": [
        "plt.plot(history.history['loss'])\n",
        "plt.ylabel('loss')\n",
        "plt.xlabel('epoch')"
      ]
    },
    {
      "cell_type": "code",
      "execution_count": 13,
      "metadata": {
        "id": "mlGTNslA4zwg"
      },
      "outputs": [],
      "source": [
        "## Google colab\n",
        "# hyb_model.save('/content/drive/MyDrive/Colab Notebooks/hybrid_model')"
      ]
    },
    {
      "cell_type": "code",
      "execution_count": 14,
      "metadata": {
        "id": "TnmNIbe9nCVw"
      },
      "outputs": [],
      "source": [
        "## Local PC\n",
        "# hyb_model.save('C:/Users/John/Documents/LHL Lecture Material/boardgame-recommender/src/models/hybrid_model')"
      ]
    },
    {
      "cell_type": "code",
      "execution_count": null,
      "metadata": {
        "id": "DPWZGgje4zwf"
      },
      "outputs": [],
      "source": [
        "# y_pred = hyb_model.predict(x=[x_test['user'], x_test['game'],x_test[feats]])"
      ]
    },
    {
      "cell_type": "code",
      "execution_count": null,
      "metadata": {
        "id": "KiX5NjZRd2bF"
      },
      "outputs": [],
      "source": [
        "# mean_squared_error(y_test, y_pred, squared=False)"
      ]
    },
    {
      "cell_type": "code",
      "execution_count": null,
      "metadata": {
        "id": "-uihDjLBnCVx"
      },
      "outputs": [],
      "source": [
        "# saved_model = tf.keras.models.load_model('C:/Users/John/Documents/LHL Lecture Material/boardgame-recommender/src/models/hybrid_model')/"
      ]
    },
    {
      "cell_type": "code",
      "execution_count": 14,
      "metadata": {
        "id": "1op4lMk7nCVx"
      },
      "outputs": [],
      "source": [
        "def user_recommendations(user, n_games,model):\n",
        "    \"\"\"\n",
        "        Takes in a user, n_games and a model to returns their top n_games recommendations that they have not rated yet.\n",
        "\n",
        "        Parameters:\n",
        "            user(str): name of user\n",
        "            n_games(int): number of games to show\n",
        "            model: the model to use for predictions\n",
        "            \n",
        "        Returns:\n",
        "            A list with each game as an index with a column for their estimated rating\n",
        "    \"\"\"\n",
        "    # Remove the boardgames that the user have rated\n",
        "    boardgame_ids = combined_features_df['BGGId'].unique()\n",
        "    user_game_list = combined_features_df.loc[combined_features_df['Username']==user, 'BGGId']\n",
        "    user_game_list = np.setdiff1d(boardgame_ids, user_game_list)\n",
        "\n",
        "    # Create dataframe of unique games for the user and a dataframe of the boardgames features\n",
        "    testset = [[user, bggid] for bggid in user_game_list]\n",
        "    testset = pd.DataFrame(testset, columns=['Username','BGGId'])\n",
        "    feats = ['BGGId','new_or_old','BayesAvgRating','BestPlayers','MfgPlaytime','NumUserRatings']\n",
        "    feat_df = game_df[game_df['BGGId'].isin(user_game_list)][feats]\n",
        "    # Combine the two dataframes to be used in prediction model\n",
        "    testset = df_with_features(feat_df, testset)\n",
        "    feats = ['new_or_old','BayesAvgRating','BestPlayers','MfgPlaytime','NumUserRatings']\n",
        "    feats_to_scale = ['BayesAvgRating','MfgPlaytime','NumUserRatings']\n",
        "\n",
        "    # Get training data and scale it to apply to the testset\n",
        "    scaler = MinMaxScaler()\n",
        "    X = combined_features_df[['user_encode','bggid_encode','new_or_old','BayesAvgRating','BestPlayers','MfgPlaytime','NumUserRatings']]\n",
        "    y = combined_features_df[['Rating']]\n",
        "    x_train, _, _, _ = train_test_split(X,y,test_size=0.2, random_state=0)\n",
        "    x_train[feats_to_scale] = scaler.fit_transform(x_train[feats_to_scale])\n",
        "    testset[feats_to_scale] = scaler.transform(testset[feats_to_scale])\n",
        "\n",
        "    # Test model on the testset and determine the boardgames with the highest rating\n",
        "    predictions = model.predict(x=[testset['user_encode'],testset['bggid_encode'],testset[feats]])\n",
        "    # Reshaped the predictions array by Transposing it. \n",
        "    top_ratings_idx = predictions.T[0].argsort()[::-1][:n_games]\n",
        "    bgg_ids = user_game_list[top_ratings_idx]\n",
        "    bgg_name = [game_df.loc[game_df['BGGId'] ==id]['Name'].values[0] for id in bgg_ids]\n",
        "    print(f'Top boardgames for {user} in order are: \\n {bgg_name}')"
      ]
    },
    {
      "cell_type": "code",
      "execution_count": 15,
      "metadata": {
        "colab": {
          "base_uri": "https://localhost:8080/"
        },
        "id": "5gntWjUznCVy",
        "outputId": "f4bd59ab-0e4c-4433-88e4-c3aba1898199"
      },
      "outputs": [
        {
          "name": "stdout",
          "output_type": "stream",
          "text": [
            "673/673 [==============================] - 2s 2ms/step\n",
            "Top boardgames for bennygui in order are: \n",
            " ['The Badger Deck', 'Dominion Einsteiger-Bigbox', 'Pentaurus: Duel', 'Oathsworn: Into the Deepwood', 'Tiny Epic Galaxies BLAST OFF!']\n"
          ]
        }
      ],
      "source": [
        "user_recommendations('bennygui', 5, hyb_model)"
      ]
    }
  ],
  "metadata": {
    "accelerator": "GPU",
    "colab": {
      "provenance": []
    },
    "gpuClass": "standard",
    "kernelspec": {
      "display_name": "py_test_env",
      "language": "python",
      "name": "python3"
    },
    "language_info": {
      "codemirror_mode": {
        "name": "ipython",
        "version": 3
      },
      "file_extension": ".py",
      "mimetype": "text/x-python",
      "name": "python",
      "nbconvert_exporter": "python",
      "pygments_lexer": "ipython3",
      "version": "3.9.15"
    },
    "orig_nbformat": 4
  },
  "nbformat": 4,
  "nbformat_minor": 0
}
