{
 "cells": [
  {
   "cell_type": "code",
   "execution_count": 8,
   "metadata": {},
   "outputs": [],
   "source": [
    "import numpy as np\n",
    "import pandas as pd\n",
    "from sklearn.preprocessing import MinMaxScaler\n",
    "from sklearn.model_selection import train_test_split\n",
    "from sklearn.metrics import mean_squared_error\n",
    "\n",
    "import tensorflow as tf\n",
    "from tensorflow import keras\n",
    "from tensorflow.keras import layers\n",
    "from tensorflow.keras.models import Model\n",
    "from keras.layers import Input, Embedding, Flatten, Dot, Dense, Concatenate\n",
    "from keras.models import Model\n",
    "\n",
    "import matplotlib.pyplot as plt"
   ]
  },
  {
   "cell_type": "code",
   "execution_count": 3,
   "metadata": {},
   "outputs": [
    {
     "data": {
      "text/html": [
       "<div>\n",
       "<style scoped>\n",
       "    .dataframe tbody tr th:only-of-type {\n",
       "        vertical-align: middle;\n",
       "    }\n",
       "\n",
       "    .dataframe tbody tr th {\n",
       "        vertical-align: top;\n",
       "    }\n",
       "\n",
       "    .dataframe thead th {\n",
       "        text-align: right;\n",
       "    }\n",
       "</style>\n",
       "<table border=\"1\" class=\"dataframe\">\n",
       "  <thead>\n",
       "    <tr style=\"text-align: right;\">\n",
       "      <th></th>\n",
       "      <th>Username</th>\n",
       "      <th>BGGId</th>\n",
       "      <th>Rating</th>\n",
       "    </tr>\n",
       "  </thead>\n",
       "  <tbody>\n",
       "    <tr>\n",
       "      <th>0</th>\n",
       "      <td>Tonydorrf</td>\n",
       "      <td>213788</td>\n",
       "      <td>8.0</td>\n",
       "    </tr>\n",
       "    <tr>\n",
       "      <th>1</th>\n",
       "      <td>tachyon14k</td>\n",
       "      <td>213788</td>\n",
       "      <td>8.0</td>\n",
       "    </tr>\n",
       "    <tr>\n",
       "      <th>2</th>\n",
       "      <td>Ungotter</td>\n",
       "      <td>213788</td>\n",
       "      <td>8.0</td>\n",
       "    </tr>\n",
       "    <tr>\n",
       "      <th>3</th>\n",
       "      <td>brainlocki3</td>\n",
       "      <td>213788</td>\n",
       "      <td>8.0</td>\n",
       "    </tr>\n",
       "    <tr>\n",
       "      <th>4</th>\n",
       "      <td>PPMP</td>\n",
       "      <td>213788</td>\n",
       "      <td>8.0</td>\n",
       "    </tr>\n",
       "  </tbody>\n",
       "</table>\n",
       "</div>"
      ],
      "text/plain": [
       "      Username   BGGId  Rating\n",
       "0    Tonydorrf  213788     8.0\n",
       "1   tachyon14k  213788     8.0\n",
       "2     Ungotter  213788     8.0\n",
       "3  brainlocki3  213788     8.0\n",
       "4         PPMP  213788     8.0"
      ]
     },
     "execution_count": 3,
     "metadata": {},
     "output_type": "execute_result"
    }
   ],
   "source": [
    "df = pd.read_csv('C:/Users/John/Documents/LHL Lecture Material/boardgame-recommender/data/user_ratings.csv')\n",
    "df = df[['Username','BGGId','Rating']]\n",
    "df.head()"
   ]
  },
  {
   "cell_type": "code",
   "execution_count": 4,
   "metadata": {},
   "outputs": [],
   "source": [
    "game_df = pd.read_csv('C:/Users/John/Documents/LHL Lecture Material/boardgame-recommender/data/games.csv')"
   ]
  },
  {
   "cell_type": "code",
   "execution_count": 11,
   "metadata": {},
   "outputs": [],
   "source": [
    "df['Username'] = df['Username'].astype(str)\n",
    "df['BGGId'] = df['BGGId'].astype(int)\n",
    "df['Rating'] = df['Rating'].astype('float32')"
   ]
  },
  {
   "cell_type": "code",
   "execution_count": 12,
   "metadata": {},
   "outputs": [],
   "source": [
    "user_ids = df['Username'].unique().tolist()\n",
    "game_ids = df['BGGId'].unique().tolist()"
   ]
  },
  {
   "cell_type": "code",
   "execution_count": 13,
   "metadata": {},
   "outputs": [],
   "source": [
    "user2user_encoded = {x: i for i, x in enumerate(user_ids)}\n",
    "game2game_encoded = {x: i for i,x in enumerate(game_ids)}"
   ]
  },
  {
   "cell_type": "code",
   "execution_count": 14,
   "metadata": {},
   "outputs": [],
   "source": [
    "num_users = len(user2user_encoded)\n",
    "num_games = len(game2game_encoded)"
   ]
  },
  {
   "cell_type": "code",
   "execution_count": 15,
   "metadata": {},
   "outputs": [],
   "source": [
    "df['user'] = df['Username'].map(user2user_encoded)\n",
    "df['game'] = df['BGGId'].map(game2game_encoded)\n",
    "df['Rating'] = df['Rating'].values.astype(np.float32)"
   ]
  },
  {
   "cell_type": "code",
   "execution_count": 16,
   "metadata": {},
   "outputs": [],
   "source": [
    "min_rating = min(df['Rating'])\n",
    "max_rating = max(df['Rating'])\n",
    "X = df[['user','game']].values\n",
    "y = df[['Rating']]"
   ]
  },
  {
   "cell_type": "code",
   "execution_count": 25,
   "metadata": {},
   "outputs": [],
   "source": [
    "scaler = MinMaxScaler()\n",
    "x_train, x_test, y_train, y_test = train_test_split(X,y,test_size=0.2, random_state=0)\n",
    "y_train, y_test = scaler.fit_transform(y_train), scaler.transform(y_test)"
   ]
  },
  {
   "cell_type": "code",
   "execution_count": 198,
   "metadata": {},
   "outputs": [
    {
     "name": "stdout",
     "output_type": "stream",
     "text": [
      "Model: \"model_4\"\n",
      "__________________________________________________________________________________________________\n",
      " Layer (type)                   Output Shape         Param #     Connected to                     \n",
      "==================================================================================================\n",
      " user-input (InputLayer)        [(None, 1)]          0           []                               \n",
      "                                                                                                  \n",
      " game-input (InputLayer)        [(None, 1)]          0           []                               \n",
      "                                                                                                  \n",
      " user-embedding (Embedding)     (None, 1, 50)        20568750    ['user-input[0][0]']             \n",
      "                                                                                                  \n",
      " game-embedding (Embedding)     (None, 1, 50)        1096250     ['game-input[0][0]']             \n",
      "                                                                                                  \n",
      " flatten-user (Flatten)         (None, 50)           0           ['user-embedding[0][0]']         \n",
      "                                                                                                  \n",
      " reshaped-game (Flatten)        (None, 50)           0           ['game-embedding[0][0]']         \n",
      "                                                                                                  \n",
      " dot-product (Dot)              (None, 1)            0           ['flatten-user[0][0]',           \n",
      "                                                                  'reshaped-game[0][0]']          \n",
      "                                                                                                  \n",
      " y-out (Dense)                  (None, 1)            2           ['dot-product[0][0]']            \n",
      "                                                                                                  \n",
      "==================================================================================================\n",
      "Total params: 21,665,002\n",
      "Trainable params: 21,665,002\n",
      "Non-trainable params: 0\n",
      "__________________________________________________________________________________________________\n"
     ]
    }
   ],
   "source": [
    "embeddings_size = 50\n",
    "\n",
    "user_input = Input(name='user_input', shape=(1,))\n",
    "user_embedding = Embedding(name='user_embedding', input_dim=num_users, output_dim=embeddings_size)(user_input)\n",
    "user_vec = Flatten(name='flatten_user')(user_embedding)\n",
    "\n",
    "game_input = Input(name='game_input', shape=(1))\n",
    "game_embedding = Embedding(name='game_embedding', input_dim = num_games, output_dim = embeddings_size)(game_input)\n",
    "game_vec = Flatten(name='reshaped_game')(game_embedding)\n",
    "\n",
    "prod = Dot(name='dot_product',normalize=True, axes=1)([user_vec, game_vec])\n",
    "\n",
    "y_out = Dense(name='y_out', units=1, activation='linear')(prod)\n",
    "\n",
    "\n",
    "model = Model(inputs=[user_input, game_input], outputs=y_out)\n",
    "model.compile(optimizer='adam', loss='mean_squared_error', metrics=['mean_squared_error'])\n",
    "model.summary()"
   ]
  },
  {
   "cell_type": "code",
   "execution_count": 199,
   "metadata": {},
   "outputs": [
    {
     "name": "stdout",
     "output_type": "stream",
     "text": [
      "Epoch 1/3\n",
      "3031/3031 [==============================] - 672s 221ms/step - loss: 0.0644 - mean_squared_error: 0.0644\n",
      "Epoch 2/3\n",
      "3031/3031 [==============================] - 674s 222ms/step - loss: 0.0137 - mean_squared_error: 0.0137\n",
      "Epoch 3/3\n",
      "3031/3031 [==============================] - 693s 229ms/step - loss: 0.0115 - mean_squared_error: 0.0115\n"
     ]
    }
   ],
   "source": [
    "history = model.fit(x=[x_train[:,0], x_train[:,1]], y=y_train, epochs=3, batch_size = 5000, verbose=True)"
   ]
  },
  {
   "cell_type": "code",
   "execution_count": 200,
   "metadata": {},
   "outputs": [
    {
     "data": {
      "text/plain": [
       "Text(0.5, 0, 'epoch')"
      ]
     },
     "execution_count": 200,
     "metadata": {},
     "output_type": "execute_result"
    },
    {
     "data": {
      "image/png": "[encoded data removed]",
      "text/plain": [
       "<Figure size 432x288 with 1 Axes>"
      ]
     },
     "metadata": {
      "needs_background": "light"
     },
     "output_type": "display_data"
    }
   ],
   "source": [
    "plt.plot(history.history['loss'])\n",
    "plt.ylabel('loss')\n",
    "plt.xlabel('epoch')"
   ]
  },
  {
   "cell_type": "code",
   "execution_count": 201,
   "metadata": {},
   "outputs": [
    {
     "name": "stdout",
     "output_type": "stream",
     "text": [
      "118389/118389 [==============================] - 81s 680us/step\n"
     ]
    }
   ],
   "source": [
    "y_pred = model.predict(x=[x_test[:,0], x_test[:,1]])"
   ]
  },
  {
   "cell_type": "code",
   "execution_count": 202,
   "metadata": {},
   "outputs": [
    {
     "data": {
      "text/plain": [
       "0.120762445"
      ]
     },
     "execution_count": 202,
     "metadata": {},
     "output_type": "execute_result"
    }
   ],
   "source": [
    "mean_squared_error(y_test, y_pred, squared=False)"
   ]
  },
  {
   "cell_type": "code",
   "execution_count": 207,
   "metadata": {},
   "outputs": [
    {
     "name": "stderr",
     "output_type": "stream",
     "text": [
      "WARNING:absl:Function `_wrapped_model` contains input name(s) user-input, game-input with unsupported characters which will be renamed to user_input, game_input in the SavedModel.\n",
      "WARNING:absl:Found untraced functions such as _update_step_xla while saving (showing 1 of 1). These functions will not be directly callable after loading.\n"
     ]
    },
    {
     "name": "stdout",
     "output_type": "stream",
     "text": [
      "INFO:tensorflow:Assets written to: C:/Users/John/Documents/LHL Lecture Material/boardgame-recommender/src/models/nn_model\\assets\n"
     ]
    },
    {
     "name": "stderr",
     "output_type": "stream",
     "text": [
      "INFO:tensorflow:Assets written to: C:/Users/John/Documents/LHL Lecture Material/boardgame-recommender/src/models/nn_model\\assets\n"
     ]
    }
   ],
   "source": [
    "model.save('C:/Users/John/Documents/LHL Lecture Material/boardgame-recommender/src/models/nn_model')"
   ]
  },
  {
   "cell_type": "code",
   "execution_count": 9,
   "metadata": {},
   "outputs": [],
   "source": [
    "saved_model = tf.keras.models.load_model('C:/Users/John/Documents/LHL Lecture Material/boardgame-recommender/src/models/nn_model')"
   ]
  },
  {
   "cell_type": "code",
   "execution_count": 18,
   "metadata": {},
   "outputs": [
    {
     "name": "stdout",
     "output_type": "stream",
     "text": [
      "118389/118389 [==============================] - 83s 699us/step\n"
     ]
    }
   ],
   "source": [
    "y_save = saved_model.predict(x=[x_test[:,0], x_test[:,1]])"
   ]
  },
  {
   "cell_type": "code",
   "execution_count": 19,
   "metadata": {},
   "outputs": [
    {
     "data": {
      "text/plain": [
       "0.11721588"
      ]
     },
     "execution_count": 19,
     "metadata": {},
     "output_type": "execute_result"
    }
   ],
   "source": [
    "mean_squared_error(y_test, y_save, squared=False)"
   ]
  },
  {
   "cell_type": "code",
   "execution_count": 20,
   "metadata": {},
   "outputs": [],
   "source": [
    "def user_recommendations(user, n_games,model):\n",
    "    \"\"\"\n",
    "        Takes in a user, n_games and a model to returns their top n_games recommendations that they have not rated yet.\n",
    "\n",
    "        Parameters:\n",
    "            user(str): name of user\n",
    "            n_games(int): number of games to show\n",
    "            model: the model to use for predictions\n",
    "            \n",
    "        Returns:\n",
    "            A list with each game as an index with a column for their estimated rating\n",
    "    \"\"\"\n",
    "    # Remove the boardgames that the user have rated\n",
    "    boardgame_id = df['BGGId'].unique()\n",
    "    user_list = df.loc[df['Username']==user, 'BGGId']\n",
    "    user_list = np.setdiff1d(boardgame_id, user_list)\n",
    "\n",
    "    # Create sparse dataset with username and bggid\n",
    "    testset = np.array([[user2user_encoded[user], game2game_encoded[bggid]] for bggid in user_list])\n",
    "    # Test model on the testset and determine the boardgames with the highest rating\n",
    "    predictions = model.predict(x=[testset[:,0],testset[:,1]])\n",
    "    # Reshaped the predictions array by Transposing it. \n",
    "    top_ratings_idx = predictions.T[0].argsort()[::-1][:n_games]\n",
    "    bgg_ids = user_list[top_ratings_idx]\n",
    "    bgg_name = [game_df.loc[game_df['BGGId'] ==id]['Name'].values[0] for id in bgg_ids]\n",
    "    print(f'Top boardgames for {user} in order are: \\n {bgg_name}')\n",
    "    "
   ]
  },
  {
   "cell_type": "code",
   "execution_count": 21,
   "metadata": {},
   "outputs": [
    {
     "name": "stdout",
     "output_type": "stream",
     "text": [
      "673/673 [==============================] - 1s 728us/step\n",
      "Top boardgames for bennygui in order are: \n",
      " ['Escape Room in a Box: The Walking Dead', 'Galaxy Trucker', 'Oltréé', 'Exit: The Game – Advent Calendar: The Mystery of the Ice Cave', 'The Phoenix Syndicate']\n"
     ]
    }
   ],
   "source": [
    "user_recommendations('bennygui',5, saved_model)"
   ]
  },
  {
   "cell_type": "code",
   "execution_count": 7,
   "metadata": {},
   "outputs": [
    {
     "data": {
      "text/html": [
       "<div>\n",
       "<style scoped>\n",
       "    .dataframe tbody tr th:only-of-type {\n",
       "        vertical-align: middle;\n",
       "    }\n",
       "\n",
       "    .dataframe tbody tr th {\n",
       "        vertical-align: top;\n",
       "    }\n",
       "\n",
       "    .dataframe thead th {\n",
       "        text-align: right;\n",
       "    }\n",
       "</style>\n",
       "<table border=\"1\" class=\"dataframe\">\n",
       "  <thead>\n",
       "    <tr style=\"text-align: right;\">\n",
       "      <th></th>\n",
       "      <th>Username</th>\n",
       "      <th>BGGId</th>\n",
       "      <th>Rating</th>\n",
       "    </tr>\n",
       "  </thead>\n",
       "  <tbody>\n",
       "    <tr>\n",
       "      <th>8087363</th>\n",
       "      <td>bennygui</td>\n",
       "      <td>157354</td>\n",
       "      <td>9.0</td>\n",
       "    </tr>\n",
       "    <tr>\n",
       "      <th>9912510</th>\n",
       "      <td>bennygui</td>\n",
       "      <td>54043</td>\n",
       "      <td>9.0</td>\n",
       "    </tr>\n",
       "    <tr>\n",
       "      <th>11513927</th>\n",
       "      <td>bennygui</td>\n",
       "      <td>176494</td>\n",
       "      <td>9.0</td>\n",
       "    </tr>\n",
       "    <tr>\n",
       "      <th>4144866</th>\n",
       "      <td>bennygui</td>\n",
       "      <td>68448</td>\n",
       "      <td>9.0</td>\n",
       "    </tr>\n",
       "    <tr>\n",
       "      <th>11778938</th>\n",
       "      <td>bennygui</td>\n",
       "      <td>283948</td>\n",
       "      <td>9.0</td>\n",
       "    </tr>\n",
       "    <tr>\n",
       "      <th>...</th>\n",
       "      <td>...</td>\n",
       "      <td>...</td>\n",
       "      <td>...</td>\n",
       "    </tr>\n",
       "    <tr>\n",
       "      <th>18389978</th>\n",
       "      <td>bennygui</td>\n",
       "      <td>169675</td>\n",
       "      <td>4.0</td>\n",
       "    </tr>\n",
       "    <tr>\n",
       "      <th>5908835</th>\n",
       "      <td>bennygui</td>\n",
       "      <td>163968</td>\n",
       "      <td>4.0</td>\n",
       "    </tr>\n",
       "    <tr>\n",
       "      <th>12769854</th>\n",
       "      <td>bennygui</td>\n",
       "      <td>36381</td>\n",
       "      <td>4.0</td>\n",
       "    </tr>\n",
       "    <tr>\n",
       "      <th>17299685</th>\n",
       "      <td>bennygui</td>\n",
       "      <td>196379</td>\n",
       "      <td>4.0</td>\n",
       "    </tr>\n",
       "    <tr>\n",
       "      <th>3572838</th>\n",
       "      <td>bennygui</td>\n",
       "      <td>1294</td>\n",
       "      <td>4.0</td>\n",
       "    </tr>\n",
       "  </tbody>\n",
       "</table>\n",
       "<p>417 rows × 3 columns</p>\n",
       "</div>"
      ],
      "text/plain": [
       "          Username   BGGId  Rating\n",
       "8087363   bennygui  157354     9.0\n",
       "9912510   bennygui   54043     9.0\n",
       "11513927  bennygui  176494     9.0\n",
       "4144866   bennygui   68448     9.0\n",
       "11778938  bennygui  283948     9.0\n",
       "...            ...     ...     ...\n",
       "18389978  bennygui  169675     4.0\n",
       "5908835   bennygui  163968     4.0\n",
       "12769854  bennygui   36381     4.0\n",
       "17299685  bennygui  196379     4.0\n",
       "3572838   bennygui    1294     4.0\n",
       "\n",
       "[417 rows x 3 columns]"
      ]
     },
     "execution_count": 7,
     "metadata": {},
     "output_type": "execute_result"
    }
   ],
   "source": [
    "df[df['Username'] == 'bennygui'].sort_values('Rating',ascending=False)"
   ]
  },
  {
   "cell_type": "code",
   "execution_count": null,
   "metadata": {},
   "outputs": [],
   "source": []
  }
 ],
 "metadata": {
  "kernelspec": {
   "display_name": "py_test_env",
   "language": "python",
   "name": "python3"
  },
  "language_info": {
   "codemirror_mode": {
    "name": "ipython",
    "version": 3
   },
   "file_extension": ".py",
   "mimetype": "text/x-python",
   "name": "python",
   "nbconvert_exporter": "python",
   "pygments_lexer": "ipython3",
   "version": "3.9.15"
  },
  "orig_nbformat": 4
 },
 "nbformat": 4,
 "nbformat_minor": 2
}
