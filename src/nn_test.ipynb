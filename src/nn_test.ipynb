{
 "cells": [
  {
   "cell_type": "code",
   "execution_count": 84,
   "metadata": {},
   "outputs": [],
   "source": [
    "import numpy as np\n",
    "import pandas as pd\n",
    "from sklearn.preprocessing import MinMaxScaler\n",
    "from sklearn.model_selection import train_test_split\n",
    "\n",
    "import tensorflow as tf\n",
    "from tensorflow import keras\n",
    "from tensorflow.keras import layers\n",
    "from tensorflow.keras.models import Model\n",
    "\n",
    "import matplotlib.pyplot as plt"
   ]
  },
  {
   "cell_type": "code",
   "execution_count": 5,
   "metadata": {},
   "outputs": [
    {
     "data": {
      "text/html": [
       "<div>\n",
       "<style scoped>\n",
       "    .dataframe tbody tr th:only-of-type {\n",
       "        vertical-align: middle;\n",
       "    }\n",
       "\n",
       "    .dataframe tbody tr th {\n",
       "        vertical-align: top;\n",
       "    }\n",
       "\n",
       "    .dataframe thead th {\n",
       "        text-align: right;\n",
       "    }\n",
       "</style>\n",
       "<table border=\"1\" class=\"dataframe\">\n",
       "  <thead>\n",
       "    <tr style=\"text-align: right;\">\n",
       "      <th></th>\n",
       "      <th>Username</th>\n",
       "      <th>BGGId</th>\n",
       "      <th>Rating</th>\n",
       "    </tr>\n",
       "  </thead>\n",
       "  <tbody>\n",
       "    <tr>\n",
       "      <th>0</th>\n",
       "      <td>Tonydorrf</td>\n",
       "      <td>213788</td>\n",
       "      <td>8.0</td>\n",
       "    </tr>\n",
       "    <tr>\n",
       "      <th>1</th>\n",
       "      <td>tachyon14k</td>\n",
       "      <td>213788</td>\n",
       "      <td>8.0</td>\n",
       "    </tr>\n",
       "    <tr>\n",
       "      <th>2</th>\n",
       "      <td>Ungotter</td>\n",
       "      <td>213788</td>\n",
       "      <td>8.0</td>\n",
       "    </tr>\n",
       "    <tr>\n",
       "      <th>3</th>\n",
       "      <td>brainlocki3</td>\n",
       "      <td>213788</td>\n",
       "      <td>8.0</td>\n",
       "    </tr>\n",
       "    <tr>\n",
       "      <th>4</th>\n",
       "      <td>PPMP</td>\n",
       "      <td>213788</td>\n",
       "      <td>8.0</td>\n",
       "    </tr>\n",
       "  </tbody>\n",
       "</table>\n",
       "</div>"
      ],
      "text/plain": [
       "      Username   BGGId  Rating\n",
       "0    Tonydorrf  213788     8.0\n",
       "1   tachyon14k  213788     8.0\n",
       "2     Ungotter  213788     8.0\n",
       "3  brainlocki3  213788     8.0\n",
       "4         PPMP  213788     8.0"
      ]
     },
     "execution_count": 5,
     "metadata": {},
     "output_type": "execute_result"
    }
   ],
   "source": [
    "df = pd.read_csv('C:/Users/John/Documents/LHL Lecture Material/boardgame-recommender/data/user_ratings.csv')\n",
    "df = df[['Username','BGGId','Rating']]\n",
    "df.head()"
   ]
  },
  {
   "cell_type": "code",
   "execution_count": 6,
   "metadata": {},
   "outputs": [],
   "source": [
    "df['Username'] = df['Username'].astype(str)\n",
    "df['BGGId'] = df['BGGId'].astype(int)\n",
    "df['Rating'] = df['Rating'].astype('float32')"
   ]
  },
  {
   "cell_type": "code",
   "execution_count": 48,
   "metadata": {},
   "outputs": [],
   "source": [
    "user_ids = df['Username'].unique().tolist()\n",
    "game_ids = df['BGGId'].unique().tolist()"
   ]
  },
  {
   "cell_type": "code",
   "execution_count": 49,
   "metadata": {},
   "outputs": [],
   "source": [
    "user2user_encoded = {x: i for i, x in enumerate(user_ids)}\n",
    "user_encoded2user = {i: x for i,x in enumerate(user_ids)}"
   ]
  },
  {
   "cell_type": "code",
   "execution_count": 50,
   "metadata": {},
   "outputs": [],
   "source": [
    "game2game_encoded = {x: i for i,x in enumerate(game_ids)}\n",
    "game_encoded2game = {i:x for i,x in enumerate(game_ids)}"
   ]
  },
  {
   "cell_type": "code",
   "execution_count": 57,
   "metadata": {},
   "outputs": [],
   "source": [
    "num_users = len(user2user_encoded)\n",
    "num_games = len(game_encoded2game)"
   ]
  },
  {
   "cell_type": "code",
   "execution_count": 63,
   "metadata": {},
   "outputs": [],
   "source": [
    "df['user'] = df['Username'].map(user2user_encoded)\n",
    "df['game'] = df['BGGId'].map(game2game_encoded)\n",
    "df['Rating'] = df['Rating'].values.astype(np.float32)"
   ]
  },
  {
   "cell_type": "code",
   "execution_count": 64,
   "metadata": {},
   "outputs": [],
   "source": [
    "min_rating = min(df['Rating'])\n",
    "max_rating = max(df['Rating'])\n",
    "X = df[['user','game']].values\n",
    "y = df['Rating'].apply(lambda x: (x - min_rating)/(max_rating-min_rating)).values"
   ]
  },
  {
   "cell_type": "code",
   "execution_count": 65,
   "metadata": {},
   "outputs": [],
   "source": [
    "x_train, x_test, y_train, y_test = train_test_split(X,y,test_size=0.2)"
   ]
  },
  {
   "cell_type": "code",
   "execution_count": 87,
   "metadata": {},
   "outputs": [],
   "source": [
    "from keras.layers import Input, Embedding, Flatten, Dot, Dense, Concatenate\n",
    "from keras.models import Model"
   ]
  },
  {
   "cell_type": "code",
   "execution_count": 95,
   "metadata": {},
   "outputs": [],
   "source": [
    "# game_input = Input(shape=[1], name='Game-input')\n",
    "# game_embedding = Embedding(n_games+1, 50, name='Game-Embedding')(game_input)\n",
    "# game_vec = Flatten(name='Game-Flatten')(game_embedding)\n",
    "\n",
    "# user_input = Input(shape=[1], name='User-Input')\n",
    "# user_embedding = Embedding(n_users+1, 50, name='User-Embedding')(user_input)\n",
    "# user_vec = Flatten(name='User-Flatten')(user_embedding)\n",
    "\n",
    "# conc = Concatenate()([user_vec, game_vec])\n",
    "# fc1 = Dense(256, activation='relu')(conc)\n",
    "# fc2 = Dense(128, activation='relu')(fc1)\n",
    "# fc3 = Dense(128, activation='relu')(fc2)\n",
    "# out = Dense(1)(fc3)\n",
    "\n",
    "# model = Model([user_input, game_input], out)\n",
    "# model.compile('adam','mean_squared_error')"
   ]
  },
  {
   "cell_type": "code",
   "execution_count": 19,
   "metadata": {},
   "outputs": [],
   "source": [
    "n_users = len(df['Username'].unique())\n",
    "n_games = len(df['BGGId'].unique())\n",
    "# train, test = train_test_split(df, test_size=0.2)"
   ]
  },
  {
   "cell_type": "code",
   "execution_count": 80,
   "metadata": {},
   "outputs": [
    {
     "data": {
      "text/plain": [
       "<KerasTensor: shape=(None, 1) dtype=float32 (created by layer 'User-Input')>"
      ]
     },
     "execution_count": 80,
     "metadata": {},
     "output_type": "execute_result"
    }
   ],
   "source": [
    "user_input"
   ]
  },
  {
   "cell_type": "code",
   "execution_count": 105,
   "metadata": {},
   "outputs": [
    {
     "name": "stdout",
     "output_type": "stream",
     "text": [
      "Model: \"model_10\"\n",
      "__________________________________________________________________________________________________\n",
      " Layer (type)                   Output Shape         Param #     Connected to                     \n",
      "==================================================================================================\n",
      " User-Input (InputLayer)        [(None, 1)]          0           []                               \n",
      "                                                                                                  \n",
      " Game-Input (InputLayer)        [(None, 1)]          0           []                               \n",
      "                                                                                                  \n",
      " User-Embedding (Embedding)     (None, 1, 50)        20568750    ['User-Input[0][0]']             \n",
      "                                                                                                  \n",
      " Game-Embedding (Embedding)     (None, 1, 50)        1096250     ['Game-Input[0][0]']             \n",
      "                                                                                                  \n",
      " Reshaped-User (Flatten)        (None, 50)           0           ['User-Embedding[0][0]']         \n",
      "                                                                                                  \n",
      " Reshaped-Game (Flatten)        (None, 50)           0           ['Game-Embedding[0][0]']         \n",
      "                                                                                                  \n",
      " Dot-Product (Dot)              (None, 1)            0           ['Reshaped-User[0][0]',          \n",
      "                                                                  'Reshaped-Game[0][0]']          \n",
      "                                                                                                  \n",
      " y-out (Dense)                  (None, 1)            2           ['Dot-Product[0][0]']            \n",
      "                                                                                                  \n",
      "==================================================================================================\n",
      "Total params: 21,665,002\n",
      "Trainable params: 21,665,002\n",
      "Non-trainable params: 0\n",
      "__________________________________________________________________________________________________\n"
     ]
    }
   ],
   "source": [
    "embeddings_size = 50\n",
    "\n",
    "user_input = Input(name='User-Input', shape=(1,))\n",
    "user_embedding = Embedding(name='User-Embedding', input_dim=n_users, output_dim=embeddings_size)(user_input)\n",
    "user_vec = Flatten(name='Reshaped-User')(user_embedding)\n",
    "\n",
    "game_input = Input(name='Game-Input', shape=(1))\n",
    "game_embedding = Embedding(name='Game-Embedding', input_dim = n_games, output_dim = embeddings_size)(game_input)\n",
    "game_vec = Flatten(name='Reshaped-Game')(game_embedding)\n",
    "\n",
    "prod = Dot(name='Dot-Product',normalize=True, axes=1)([user_vec, game_vec])\n",
    "\n",
    "y_out = Dense(name='y-out', units=1, activation='linear')(prod)\n",
    "\n",
    "model = Model(inputs=[user_input, game_input], outputs=y_out)\n",
    "model.compile(optimizer='adam', loss='mean_squared_error', metrics=['mean_squared_error'])\n",
    "model.summary()"
   ]
  },
  {
   "cell_type": "code",
   "execution_count": 106,
   "metadata": {},
   "outputs": [
    {
     "name": "stdout",
     "output_type": "stream",
     "text": [
      "Epoch 1/3\n",
      "3031/3031 [==============================] - 717s 236ms/step - loss: 0.0625 - mean_squared_error: 0.0625\n",
      "Epoch 2/3\n",
      "3031/3031 [==============================] - 733s 242ms/step - loss: 0.0134 - mean_squared_error: 0.0134\n",
      "Epoch 3/3\n",
      "3031/3031 [==============================] - 726s 240ms/step - loss: 0.0112 - mean_squared_error: 0.0112\n"
     ]
    }
   ],
   "source": [
    "history = model.fit(x=[x_train[:,0], x_train[:,1]], y=y_train, epochs=3, batch_size = 5000, verbose=True)"
   ]
  },
  {
   "cell_type": "code",
   "execution_count": 107,
   "metadata": {},
   "outputs": [
    {
     "data": {
      "text/plain": [
       "Text(0.5, 0, 'epoch')"
      ]
     },
     "execution_count": 107,
     "metadata": {},
     "output_type": "execute_result"
    },
    {
     "data": {
      "image/png": "[encoded data removed]",
      "text/plain": [
       "<Figure size 432x288 with 1 Axes>"
      ]
     },
     "metadata": {
      "needs_background": "light"
     },
     "output_type": "display_data"
    }
   ],
   "source": [
    "plt.plot(history.history['loss'])\n",
    "plt.ylabel('loss')\n",
    "plt.xlabel('epoch')"
   ]
  },
  {
   "cell_type": "code",
   "execution_count": 108,
   "metadata": {},
   "outputs": [
    {
     "name": "stdout",
     "output_type": "stream",
     "text": [
      "118389/118389 [==============================] - 84s 708us/step\n"
     ]
    }
   ],
   "source": [
    "y_pred = model.predict(x=[x_test[:,0], x_test[:,1]])"
   ]
  },
  {
   "cell_type": "code",
   "execution_count": 109,
   "metadata": {},
   "outputs": [
    {
     "data": {
      "text/plain": [
       "0.12080647988435084"
      ]
     },
     "execution_count": 109,
     "metadata": {},
     "output_type": "execute_result"
    }
   ],
   "source": [
    "from sklearn.metrics import mean_squared_error\n",
    "mean_squared_error(y_test, y_pred, squared=False)"
   ]
  },
  {
   "cell_type": "code",
   "execution_count": null,
   "metadata": {},
   "outputs": [],
   "source": []
  }
 ],
 "metadata": {
  "kernelspec": {
   "display_name": "py_test_env",
   "language": "python",
   "name": "python3"
  },
  "language_info": {
   "codemirror_mode": {
    "name": "ipython",
    "version": 3
   },
   "file_extension": ".py",
   "mimetype": "text/x-python",
   "name": "python",
   "nbconvert_exporter": "python",
   "pygments_lexer": "ipython3",
   "version": "3.9.15"
  },
  "orig_nbformat": 4
 },
 "nbformat": 4,
 "nbformat_minor": 2
}
