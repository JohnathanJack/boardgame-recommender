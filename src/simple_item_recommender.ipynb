{
 "cells": [
  {
   "attachments": {},
   "cell_type": "markdown",
   "metadata": {},
   "source": [
    "# Simple Recommender by Content Based Filtering"
   ]
  },
  {
   "cell_type": "markdown",
   "metadata": {},
   "source": [
    "Use TfidfVectorizer with cosine similarity to create recommendations based on the game's description"
   ]
  },
  {
   "cell_type": "code",
   "execution_count": 1,
   "metadata": {},
   "outputs": [],
   "source": [
    "import pandas as pd\n",
    "import numpy as np\n",
    "from sklearn.feature_extraction.text import TfidfVectorizer\n",
    "from sklearn.metrics.pairwise import cosine_similarity"
   ]
  },
  {
   "cell_type": "code",
   "execution_count": 2,
   "metadata": {},
   "outputs": [
    {
     "data": {
      "text/html": [
       "<div>\n",
       "<style scoped>\n",
       "    .dataframe tbody tr th:only-of-type {\n",
       "        vertical-align: middle;\n",
       "    }\n",
       "\n",
       "    .dataframe tbody tr th {\n",
       "        vertical-align: top;\n",
       "    }\n",
       "\n",
       "    .dataframe thead th {\n",
       "        text-align: right;\n",
       "    }\n",
       "</style>\n",
       "<table border=\"1\" class=\"dataframe\">\n",
       "  <thead>\n",
       "    <tr style=\"text-align: right;\">\n",
       "      <th></th>\n",
       "      <th>BGGId</th>\n",
       "      <th>Name</th>\n",
       "      <th>Description</th>\n",
       "      <th>YearPublished</th>\n",
       "      <th>GameWeight</th>\n",
       "      <th>AvgRating</th>\n",
       "      <th>BayesAvgRating</th>\n",
       "      <th>StdDev</th>\n",
       "      <th>MinPlayers</th>\n",
       "      <th>MaxPlayers</th>\n",
       "      <th>...</th>\n",
       "      <th>Rank:partygames</th>\n",
       "      <th>Rank:childrensgames</th>\n",
       "      <th>Cat:Thematic</th>\n",
       "      <th>Cat:Strategy</th>\n",
       "      <th>Cat:War</th>\n",
       "      <th>Cat:Family</th>\n",
       "      <th>Cat:CGS</th>\n",
       "      <th>Cat:Abstract</th>\n",
       "      <th>Cat:Party</th>\n",
       "      <th>Cat:Childrens</th>\n",
       "    </tr>\n",
       "  </thead>\n",
       "  <tbody>\n",
       "    <tr>\n",
       "      <th>0</th>\n",
       "      <td>1</td>\n",
       "      <td>Die Macher</td>\n",
       "      <td>die macher game seven sequential political rac...</td>\n",
       "      <td>1986</td>\n",
       "      <td>4.3206</td>\n",
       "      <td>7.61428</td>\n",
       "      <td>7.10363</td>\n",
       "      <td>1.57979</td>\n",
       "      <td>3</td>\n",
       "      <td>5</td>\n",
       "      <td>...</td>\n",
       "      <td>21926</td>\n",
       "      <td>21926</td>\n",
       "      <td>0</td>\n",
       "      <td>1</td>\n",
       "      <td>0</td>\n",
       "      <td>0</td>\n",
       "      <td>0</td>\n",
       "      <td>0</td>\n",
       "      <td>0</td>\n",
       "      <td>0</td>\n",
       "    </tr>\n",
       "    <tr>\n",
       "      <th>1</th>\n",
       "      <td>2</td>\n",
       "      <td>Dragonmaster</td>\n",
       "      <td>dragonmaster tricktaking card game base old ga...</td>\n",
       "      <td>1981</td>\n",
       "      <td>1.9630</td>\n",
       "      <td>6.64537</td>\n",
       "      <td>5.78447</td>\n",
       "      <td>1.45440</td>\n",
       "      <td>3</td>\n",
       "      <td>4</td>\n",
       "      <td>...</td>\n",
       "      <td>21926</td>\n",
       "      <td>21926</td>\n",
       "      <td>0</td>\n",
       "      <td>1</td>\n",
       "      <td>0</td>\n",
       "      <td>0</td>\n",
       "      <td>0</td>\n",
       "      <td>0</td>\n",
       "      <td>0</td>\n",
       "      <td>0</td>\n",
       "    </tr>\n",
       "    <tr>\n",
       "      <th>2</th>\n",
       "      <td>3</td>\n",
       "      <td>Samurai</td>\n",
       "      <td>samurai set medieval japan player compete gain...</td>\n",
       "      <td>1998</td>\n",
       "      <td>2.4859</td>\n",
       "      <td>7.45601</td>\n",
       "      <td>7.23994</td>\n",
       "      <td>1.18227</td>\n",
       "      <td>2</td>\n",
       "      <td>4</td>\n",
       "      <td>...</td>\n",
       "      <td>21926</td>\n",
       "      <td>21926</td>\n",
       "      <td>0</td>\n",
       "      <td>1</td>\n",
       "      <td>0</td>\n",
       "      <td>0</td>\n",
       "      <td>0</td>\n",
       "      <td>0</td>\n",
       "      <td>0</td>\n",
       "      <td>0</td>\n",
       "    </tr>\n",
       "    <tr>\n",
       "      <th>3</th>\n",
       "      <td>4</td>\n",
       "      <td>Tal der Könige</td>\n",
       "      <td>triangular box luxurious large block tal der k...</td>\n",
       "      <td>1992</td>\n",
       "      <td>2.6667</td>\n",
       "      <td>6.60006</td>\n",
       "      <td>5.67954</td>\n",
       "      <td>1.23129</td>\n",
       "      <td>2</td>\n",
       "      <td>4</td>\n",
       "      <td>...</td>\n",
       "      <td>21926</td>\n",
       "      <td>21926</td>\n",
       "      <td>0</td>\n",
       "      <td>0</td>\n",
       "      <td>0</td>\n",
       "      <td>0</td>\n",
       "      <td>0</td>\n",
       "      <td>0</td>\n",
       "      <td>0</td>\n",
       "      <td>0</td>\n",
       "    </tr>\n",
       "    <tr>\n",
       "      <th>4</th>\n",
       "      <td>5</td>\n",
       "      <td>Acquire</td>\n",
       "      <td>acquire player strategically invest business t...</td>\n",
       "      <td>1964</td>\n",
       "      <td>2.5031</td>\n",
       "      <td>7.33861</td>\n",
       "      <td>7.14189</td>\n",
       "      <td>1.33583</td>\n",
       "      <td>2</td>\n",
       "      <td>6</td>\n",
       "      <td>...</td>\n",
       "      <td>21926</td>\n",
       "      <td>21926</td>\n",
       "      <td>0</td>\n",
       "      <td>1</td>\n",
       "      <td>0</td>\n",
       "      <td>0</td>\n",
       "      <td>0</td>\n",
       "      <td>0</td>\n",
       "      <td>0</td>\n",
       "      <td>0</td>\n",
       "    </tr>\n",
       "  </tbody>\n",
       "</table>\n",
       "<p>5 rows × 48 columns</p>\n",
       "</div>"
      ],
      "text/plain": [
       "   BGGId            Name                                        Description  \\\n",
       "0      1      Die Macher  die macher game seven sequential political rac...   \n",
       "1      2    Dragonmaster  dragonmaster tricktaking card game base old ga...   \n",
       "2      3         Samurai  samurai set medieval japan player compete gain...   \n",
       "3      4  Tal der Könige  triangular box luxurious large block tal der k...   \n",
       "4      5         Acquire  acquire player strategically invest business t...   \n",
       "\n",
       "   YearPublished  GameWeight  AvgRating  BayesAvgRating   StdDev  MinPlayers  \\\n",
       "0           1986      4.3206    7.61428         7.10363  1.57979           3   \n",
       "1           1981      1.9630    6.64537         5.78447  1.45440           3   \n",
       "2           1998      2.4859    7.45601         7.23994  1.18227           2   \n",
       "3           1992      2.6667    6.60006         5.67954  1.23129           2   \n",
       "4           1964      2.5031    7.33861         7.14189  1.33583           2   \n",
       "\n",
       "   MaxPlayers  ...  Rank:partygames  Rank:childrensgames  Cat:Thematic  \\\n",
       "0           5  ...            21926                21926             0   \n",
       "1           4  ...            21926                21926             0   \n",
       "2           4  ...            21926                21926             0   \n",
       "3           4  ...            21926                21926             0   \n",
       "4           6  ...            21926                21926             0   \n",
       "\n",
       "  Cat:Strategy  Cat:War  Cat:Family  Cat:CGS  Cat:Abstract  Cat:Party  \\\n",
       "0            1        0           0        0             0          0   \n",
       "1            1        0           0        0             0          0   \n",
       "2            1        0           0        0             0          0   \n",
       "3            0        0           0        0             0          0   \n",
       "4            1        0           0        0             0          0   \n",
       "\n",
       "   Cat:Childrens  \n",
       "0              0  \n",
       "1              0  \n",
       "2              0  \n",
       "3              0  \n",
       "4              0  \n",
       "\n",
       "[5 rows x 48 columns]"
      ]
     },
     "execution_count": 2,
     "metadata": {},
     "output_type": "execute_result"
    }
   ],
   "source": [
    "df  = pd.read_csv('C:/Users/John/Documents/LHL Lecture Material/boardgame-recommender/data/games.csv')\n",
    "df.head()"
   ]
  },
  {
   "cell_type": "code",
   "execution_count": 13,
   "metadata": {},
   "outputs": [
    {
     "data": {
      "text/html": [
       "<div>\n",
       "<style scoped>\n",
       "    .dataframe tbody tr th:only-of-type {\n",
       "        vertical-align: middle;\n",
       "    }\n",
       "\n",
       "    .dataframe tbody tr th {\n",
       "        vertical-align: top;\n",
       "    }\n",
       "\n",
       "    .dataframe thead th {\n",
       "        text-align: right;\n",
       "    }\n",
       "</style>\n",
       "<table border=\"1\" class=\"dataframe\">\n",
       "  <thead>\n",
       "    <tr style=\"text-align: right;\">\n",
       "      <th></th>\n",
       "      <th>BGGId</th>\n",
       "      <th>Name</th>\n",
       "      <th>Description</th>\n",
       "    </tr>\n",
       "  </thead>\n",
       "  <tbody>\n",
       "    <tr>\n",
       "      <th>0</th>\n",
       "      <td>1</td>\n",
       "      <td>Die Macher</td>\n",
       "      <td>die macher game seven sequential political rac...</td>\n",
       "    </tr>\n",
       "    <tr>\n",
       "      <th>1</th>\n",
       "      <td>2</td>\n",
       "      <td>Dragonmaster</td>\n",
       "      <td>dragonmaster tricktaking card game base old ga...</td>\n",
       "    </tr>\n",
       "    <tr>\n",
       "      <th>2</th>\n",
       "      <td>3</td>\n",
       "      <td>Samurai</td>\n",
       "      <td>samurai set medieval japan player compete gain...</td>\n",
       "    </tr>\n",
       "    <tr>\n",
       "      <th>3</th>\n",
       "      <td>4</td>\n",
       "      <td>Tal der Könige</td>\n",
       "      <td>triangular box luxurious large block tal der k...</td>\n",
       "    </tr>\n",
       "    <tr>\n",
       "      <th>4</th>\n",
       "      <td>5</td>\n",
       "      <td>Acquire</td>\n",
       "      <td>acquire player strategically invest business t...</td>\n",
       "    </tr>\n",
       "  </tbody>\n",
       "</table>\n",
       "</div>"
      ],
      "text/plain": [
       "   BGGId            Name                                        Description\n",
       "0      1      Die Macher  die macher game seven sequential political rac...\n",
       "1      2    Dragonmaster  dragonmaster tricktaking card game base old ga...\n",
       "2      3         Samurai  samurai set medieval japan player compete gain...\n",
       "3      4  Tal der Könige  triangular box luxurious large block tal der k...\n",
       "4      5         Acquire  acquire player strategically invest business t..."
      ]
     },
     "execution_count": 13,
     "metadata": {},
     "output_type": "execute_result"
    }
   ],
   "source": [
    "game_df = df[['BGGId','Name','Description']].copy()\n",
    "game_df.head()"
   ]
  },
  {
   "cell_type": "code",
   "execution_count": 14,
   "metadata": {},
   "outputs": [
    {
     "name": "stdout",
     "output_type": "stream",
     "text": [
      "<class 'pandas.core.frame.DataFrame'>\n",
      "RangeIndex: 21925 entries, 0 to 21924\n",
      "Data columns (total 3 columns):\n",
      " #   Column       Non-Null Count  Dtype \n",
      "---  ------       --------------  ----- \n",
      " 0   BGGId        21925 non-null  int64 \n",
      " 1   Name         21925 non-null  object\n",
      " 2   Description  21924 non-null  object\n",
      "dtypes: int64(1), object(2)\n",
      "memory usage: 514.0+ KB\n"
     ]
    }
   ],
   "source": [
    "game_df.info()"
   ]
  },
  {
   "cell_type": "code",
   "execution_count": 15,
   "metadata": {},
   "outputs": [
    {
     "data": {
      "text/html": [
       "<div>\n",
       "<style scoped>\n",
       "    .dataframe tbody tr th:only-of-type {\n",
       "        vertical-align: middle;\n",
       "    }\n",
       "\n",
       "    .dataframe tbody tr th {\n",
       "        vertical-align: top;\n",
       "    }\n",
       "\n",
       "    .dataframe thead th {\n",
       "        text-align: right;\n",
       "    }\n",
       "</style>\n",
       "<table border=\"1\" class=\"dataframe\">\n",
       "  <thead>\n",
       "    <tr style=\"text-align: right;\">\n",
       "      <th></th>\n",
       "      <th>BGGId</th>\n",
       "      <th>Name</th>\n",
       "      <th>Description</th>\n",
       "    </tr>\n",
       "  </thead>\n",
       "  <tbody>\n",
       "    <tr>\n",
       "      <th>0</th>\n",
       "      <td>1</td>\n",
       "      <td>Die Macher</td>\n",
       "      <td>die macher game seven sequential political rac...</td>\n",
       "    </tr>\n",
       "    <tr>\n",
       "      <th>1</th>\n",
       "      <td>2</td>\n",
       "      <td>Dragonmaster</td>\n",
       "      <td>dragonmaster tricktaking card game base old ga...</td>\n",
       "    </tr>\n",
       "    <tr>\n",
       "      <th>2</th>\n",
       "      <td>3</td>\n",
       "      <td>Samurai</td>\n",
       "      <td>samurai set medieval japan player compete gain...</td>\n",
       "    </tr>\n",
       "    <tr>\n",
       "      <th>3</th>\n",
       "      <td>4</td>\n",
       "      <td>Tal der Könige</td>\n",
       "      <td>triangular box luxurious large block tal der k...</td>\n",
       "    </tr>\n",
       "    <tr>\n",
       "      <th>4</th>\n",
       "      <td>5</td>\n",
       "      <td>Acquire</td>\n",
       "      <td>acquire player strategically invest business t...</td>\n",
       "    </tr>\n",
       "    <tr>\n",
       "      <th>...</th>\n",
       "      <td>...</td>\n",
       "      <td>...</td>\n",
       "      <td>...</td>\n",
       "    </tr>\n",
       "    <tr>\n",
       "      <th>21920</th>\n",
       "      <td>347146</td>\n",
       "      <td>Salvage</td>\n",
       "      <td>oil tanker fire rescue team send deal   damage...</td>\n",
       "    </tr>\n",
       "    <tr>\n",
       "      <th>21921</th>\n",
       "      <td>347521</td>\n",
       "      <td>Blitzkrieg!: World War Two in 20 Minutes</td>\n",
       "      <td>new square edition include nippon expansion up...</td>\n",
       "    </tr>\n",
       "    <tr>\n",
       "      <th>21922</th>\n",
       "      <td>348955</td>\n",
       "      <td>Rock Paper Scissors: Deluxe Edition</td>\n",
       "      <td>million year people force play timehonored gam...</td>\n",
       "    </tr>\n",
       "    <tr>\n",
       "      <th>21923</th>\n",
       "      <td>349131</td>\n",
       "      <td>Splitter</td>\n",
       "      <td>splitter group number score point mdash s s md...</td>\n",
       "    </tr>\n",
       "    <tr>\n",
       "      <th>21924</th>\n",
       "      <td>349161</td>\n",
       "      <td>Captains' War</td>\n",
       "      <td>gather resource build crew fight rival claim p...</td>\n",
       "    </tr>\n",
       "  </tbody>\n",
       "</table>\n",
       "<p>21924 rows × 3 columns</p>\n",
       "</div>"
      ],
      "text/plain": [
       "        BGGId                                      Name  \\\n",
       "0           1                                Die Macher   \n",
       "1           2                              Dragonmaster   \n",
       "2           3                                   Samurai   \n",
       "3           4                            Tal der Könige   \n",
       "4           5                                   Acquire   \n",
       "...       ...                                       ...   \n",
       "21920  347146                                   Salvage   \n",
       "21921  347521  Blitzkrieg!: World War Two in 20 Minutes   \n",
       "21922  348955       Rock Paper Scissors: Deluxe Edition   \n",
       "21923  349131                                  Splitter   \n",
       "21924  349161                             Captains' War   \n",
       "\n",
       "                                             Description  \n",
       "0      die macher game seven sequential political rac...  \n",
       "1      dragonmaster tricktaking card game base old ga...  \n",
       "2      samurai set medieval japan player compete gain...  \n",
       "3      triangular box luxurious large block tal der k...  \n",
       "4      acquire player strategically invest business t...  \n",
       "...                                                  ...  \n",
       "21920  oil tanker fire rescue team send deal   damage...  \n",
       "21921  new square edition include nippon expansion up...  \n",
       "21922  million year people force play timehonored gam...  \n",
       "21923  splitter group number score point mdash s s md...  \n",
       "21924  gather resource build crew fight rival claim p...  \n",
       "\n",
       "[21924 rows x 3 columns]"
      ]
     },
     "execution_count": 15,
     "metadata": {},
     "output_type": "execute_result"
    }
   ],
   "source": [
    "game_df = game_df.dropna()\n",
    "game_df"
   ]
  },
  {
   "cell_type": "code",
   "execution_count": 28,
   "metadata": {},
   "outputs": [
    {
     "data": {
      "text/plain": [
       "BGGId                                                          1\n",
       "Description    die macher game seven sequential political rac...\n",
       "Name: 0, dtype: object"
      ]
     },
     "execution_count": 28,
     "metadata": {},
     "output_type": "execute_result"
    }
   ],
   "source": [
    "game_df.iloc[0]"
   ]
  },
  {
   "cell_type": "code",
   "execution_count": 16,
   "metadata": {},
   "outputs": [],
   "source": [
    "def cosine_results(df):\n",
    "    \"\"\"\n",
    "    Takes in a dataframe and returns the cosine similarities between all the game_ids.\n",
    "\n",
    "    Parameters:\n",
    "        df(pandas dataframe): dataframe with boardgame_id and description of each game\n",
    "    \n",
    "    Returns:\n",
    "        results(dictionary): dictionary with values in order of highest cosine similarity\n",
    "    \"\"\"\n",
    "    vectorizer = TfidfVectorizer(stop_words='english')\n",
    "    vec_matrix = vectorizer.fit_transform(df['Description'])\n",
    "    cosine_sim = cosine_similarity(vec_matrix, vec_matrix)\n",
    "    \n",
    "    idx_results = {}\n",
    "    for i,value in enumerate(cosine_sim):\n",
    "        #For each index, grab the BGGId and create a dictionary with the BGGId as the key\n",
    "        idx_results[df['BGGId'].iloc[i]] = list(value.argsort()[::-1])\n",
    "    return idx_results\n"
   ]
  },
  {
   "cell_type": "code",
   "execution_count": 7,
   "metadata": {},
   "outputs": [],
   "source": [
    "cos_res = cosine_results(game_df)"
   ]
  },
  {
   "cell_type": "code",
   "execution_count": 17,
   "metadata": {},
   "outputs": [],
   "source": [
    "def recommender(game_id, count):\n",
    "    \"\"\" \n",
    "    Given the game_id and the count, it will return the count number of game_id that is \n",
    "    most similar to it\n",
    "    \n",
    "    Parameters: \n",
    "        game_id(int): the boardgamegeek game_id\n",
    "        count(int): an integer\n",
    "\n",
    "    Returns:\n",
    "        results(list(str)): List of boardgames names\n",
    "    \"\"\"\n",
    "    cos_res = cosine_results(game_df)\n",
    "    top_5 = cos_res[game_id][1:count+1]\n",
    "    game_list = [df['Name'].iloc[game] for game in top_5]\n",
    "    return game_list"
   ]
  },
  {
   "cell_type": "code",
   "execution_count": 27,
   "metadata": {},
   "outputs": [
    {
     "data": {
      "text/plain": [
       "['Pandemic Legacy: Season 1',\n",
       " 'Pandemic: The Cure',\n",
       " 'Pandemic: Contagion',\n",
       " 'Infection',\n",
       " 'Carcassonne für 2']"
      ]
     },
     "execution_count": 27,
     "metadata": {},
     "output_type": "execute_result"
    }
   ],
   "source": [
    "recommender(30549,5)"
   ]
  },
  {
   "cell_type": "code",
   "execution_count": 26,
   "metadata": {},
   "outputs": [
    {
     "data": {
      "text/html": [
       "<div>\n",
       "<style scoped>\n",
       "    .dataframe tbody tr th:only-of-type {\n",
       "        vertical-align: middle;\n",
       "    }\n",
       "\n",
       "    .dataframe tbody tr th {\n",
       "        vertical-align: top;\n",
       "    }\n",
       "\n",
       "    .dataframe thead th {\n",
       "        text-align: right;\n",
       "    }\n",
       "</style>\n",
       "<table border=\"1\" class=\"dataframe\">\n",
       "  <thead>\n",
       "    <tr style=\"text-align: right;\">\n",
       "      <th></th>\n",
       "      <th>BGGId</th>\n",
       "      <th>Name</th>\n",
       "      <th>Description</th>\n",
       "    </tr>\n",
       "  </thead>\n",
       "  <tbody>\n",
       "    <tr>\n",
       "      <th>7919</th>\n",
       "      <td>30549</td>\n",
       "      <td>Pandemic</td>\n",
       "      <td>pandemic virulent disease break simultaneously...</td>\n",
       "    </tr>\n",
       "  </tbody>\n",
       "</table>\n",
       "</div>"
      ],
      "text/plain": [
       "      BGGId      Name                                        Description\n",
       "7919  30549  Pandemic  pandemic virulent disease break simultaneously..."
      ]
     },
     "execution_count": 26,
     "metadata": {},
     "output_type": "execute_result"
    }
   ],
   "source": [
    "game_df[game_df['Name'] == 'Pandemic']"
   ]
  },
  {
   "cell_type": "code",
   "execution_count": 33,
   "metadata": {},
   "outputs": [
    {
     "data": {
      "text/plain": [
       "'pandemic legacy cooperative campaign game overarch storyarc play   session depend group game beginning game start similar basic pandemic team diseasefighte specialist race clock travel world treat disease hotspot research cure plague handdure player turn action available travel world way need discard card build structure like research station treat disease remove cube board cube color remove disease eradicate trade card player find cure disease require card color discard research station player unique role special ability help actionsafter player take action draw card card include epidemic card place new disease cube board lead outbreak spread disease cube outbreak additionally increase panic level city make city expensive travel toeach month game chance achieve month objective succeed win immediately month fail second chance funding beneficial event cardsdure campaign new rule component introduce require permanently alter component game include write card rip card place permanent sticker component character gain new skill detrimental effect character lose entirely point long available playpart pandemic series'"
      ]
     },
     "execution_count": 33,
     "metadata": {},
     "output_type": "execute_result"
    }
   ],
   "source": [
    "game_df[game_df['Name'] == 'Pandemic Legacy: Season 1']['Description'].values[0]"
   ]
  },
  {
   "cell_type": "code",
   "execution_count": 34,
   "metadata": {},
   "outputs": [
    {
     "data": {
      "text/plain": [
       "'pandemic cure dicebased version popular pandemic board game set minute play   minute board game disease threaten world team save humanity team world hotspot check break control research cure plaguesplayer roll dice turn determine action available fly sail major population center world treat disease current region collect sample study exchange knowledge help goal discover cure player take different role unique set dice ability mdash player advantage specialization hope win game dispatcher example spend dice fly board medic particularly adept treat disease player roll dice like time reroll perfect turn likely epidemic occurat end turn new quotinfection dicequot roll determine type location newly infect population region board infect dice give color outbreak occur spread disease adjacent region outbreak place people infect rate infection get high player lose player discover cure disease win humanity savedpart pandemic series'"
      ]
     },
     "execution_count": 34,
     "metadata": {},
     "output_type": "execute_result"
    }
   ],
   "source": [
    "game_df[game_df['Name'] == 'Pandemic: The Cure']['Description'].values[0]"
   ]
  },
  {
   "cell_type": "code",
   "execution_count": 35,
   "metadata": {},
   "outputs": [
    {
     "data": {
      "text/plain": [
       "'year try defeat disease threaten mankindrsquo existence table turn   disease guess   curein pandemic contagion compete disease fellow player eliminate humanity cure wipe human civilization come deadly disease know man rest peacepandemic contagion include deck contagion card differ color border city card similar colored border eventwho card player disease card disease cube turn possible action action twice action      draw contagion card equal current incubation rate      advance mutation level      spread disease equal current transmission ratewhen number disease equal cityrsquos population number city wipe   player place final disease earn special action player disease score population number small number award second thirdmost diseasesyour disease card mutation incubation number card draw transmission number disease cube spread resistance number cubescard protect action advance mutation level discard require number cardsevent card draw start round affect turn benefit card negative impact card bad resistance lessen penalty base level plan aheadmidgame scoring occur second fourth sixth skull come   city icon appear new city introducedonce eventwho deck run city card remain play game end player conduct final scoring round virus victoriouspart pandemic series'"
      ]
     },
     "execution_count": 35,
     "metadata": {},
     "output_type": "execute_result"
    }
   ],
   "source": [
    "game_df[game_df['Name'] == 'Pandemic: Contagion']['Description'].values[0]"
   ]
  },
  {
   "cell_type": "code",
   "execution_count": 36,
   "metadata": {},
   "outputs": [
    {
     "data": {
      "text/plain": [
       "'player roll dice race board catch disease try cure     catch disease leave public place pass disease player cure   medical station medicaid christmas bonus lottery help pay   bill diagnose disease info center wrong catch   diseasedisease card provide wealth information color code indicate severity   basic disease major communicable   disease card include   common latin cause   symptom treatment    multiple medical   library medical professional   consult insure accuracy informationtreatment option price   vary large range visit voodoo   doctor cheap way result unpredictable   intensive care center good service expensive place cure'"
      ]
     },
     "execution_count": 36,
     "metadata": {},
     "output_type": "execute_result"
    }
   ],
   "source": [
    "game_df[game_df['Name'] == 'Infection']['Description'].values[0]"
   ]
  },
  {
   "cell_type": "code",
   "execution_count": 37,
   "metadata": {},
   "outputs": [
    {
     "data": {
      "text/plain": [
       "'carcassonne tileplacement game player draw place tile piece southern french landscape tile feature city road cloister grassland combination thereof place adjacent tile play way city connect city road road etcetera having place tile player decide place meeple area city knight road robber cloister monk grass farmer area complete meeple score point ownerdure game carcassonne player face decision like quotis worth put meeple therequot quotshould use tile expand city place near opponent instead give hard time complete project score pointsquot player place tile option place meeple turn proceed quickly game option possibilitiescarcassonne fuumlr   twoplayer version carcassonne come metal box contain   tile   meeple'"
      ]
     },
     "execution_count": 37,
     "metadata": {},
     "output_type": "execute_result"
    }
   ],
   "source": [
    "game_df[game_df['Name'] == 'Carcassonne für 2']['Description'].values[0]"
   ]
  },
  {
   "cell_type": "code",
   "execution_count": null,
   "metadata": {},
   "outputs": [],
   "source": []
  }
 ],
 "metadata": {
  "kernelspec": {
   "display_name": "py_test_env",
   "language": "python",
   "name": "python3"
  },
  "language_info": {
   "codemirror_mode": {
    "name": "ipython",
    "version": 3
   },
   "file_extension": ".py",
   "mimetype": "text/x-python",
   "name": "python",
   "nbconvert_exporter": "python",
   "pygments_lexer": "ipython3",
   "version": "3.9.15"
  },
  "orig_nbformat": 4
 },
 "nbformat": 4,
 "nbformat_minor": 2
}
